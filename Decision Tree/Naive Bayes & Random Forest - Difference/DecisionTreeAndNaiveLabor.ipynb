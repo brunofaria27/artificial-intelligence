{
  "cells": [
    {
      "cell_type": "code",
      "execution_count": 736,
      "metadata": {
        "id": "enY6jzFNXk3O"
      },
      "outputs": [],
      "source": [
        "# Importando bibliotecas\n",
        "import pandas as pd\n",
        "import numpy as np\n",
        "from collections import Counter\n",
        "\n",
        "from sklearn import tree\n",
        "from sklearn import preprocessing\n",
        "from sklearn.model_selection import train_test_split\n",
        "from sklearn.tree import DecisionTreeClassifier\n",
        "from sklearn.ensemble import RandomForestClassifier \n",
        "from sklearn.naive_bayes import GaussianNB\n",
        "\n",
        "# Importar a biblioteca para mostrar a matriz de confusão\n",
        "from sklearn.metrics import confusion_matrix\n",
        "from sklearn.metrics import ConfusionMatrixDisplay\n",
        "\n",
        "# Importando bibliotecas para calcular métricas\n",
        "from sklearn.metrics import accuracy_score\n",
        "from sklearn.metrics import classification_report\n",
        "\n",
        "# Plotar gráficos\n",
        "import seaborn as sns\n",
        "import matplotlib.pyplot as plt\n",
        "\n",
        "# Balanceamento\n",
        "from imblearn.combine import SMOTEENN\n",
        "from imblearn.combine import SMOTETomek\n",
        "from imblearn.under_sampling import RandomUnderSampler\n",
        "from imblearn.over_sampling import RandomOverSampler\n",
        "from imblearn.under_sampling import AllKNN\n",
        "from imblearn.over_sampling import SMOTE"
      ]
    },
    {
      "cell_type": "code",
      "execution_count": 737,
      "metadata": {
        "id": "NFwQK7lTX0HX"
      },
      "outputs": [],
      "source": [
        "# Ler dados do DataSet\n",
        "csv_dir_treinamento = \"/content/sample_data/labor.csv\"\n",
        "data = pd.read_csv(csv_dir_treinamento, delimiter=\",\")"
      ]
    },
    {
      "cell_type": "code",
      "execution_count": 738,
      "metadata": {
        "id": "fMuDt2eYmQhL"
      },
      "outputs": [],
      "source": [
        "# Remover a coluna TBG onde todos os valores são NaN\n",
        "data.drop([\"TBG\"], axis=1, inplace=True)\n",
        "\n",
        "# Atualizar ? para NaN\n",
        "data = data.mask(data == '?')"
      ]
    },
    {
      "cell_type": "code",
      "execution_count": 739,
      "metadata": {
        "id": "_sJB7jd2qPr5"
      },
      "outputs": [],
      "source": [
        "# Atualizar NaN para o modo da coluna\n",
        "data.dropna(subset=['age'], inplace=True, axis=0) # Remover a unica linha nula de idade\n",
        "# Atualizar valores moda:\n",
        "data.fillna(data['sex'].mode(), inplace=True)\n",
        "# Atualizar valores media:\n",
        "colunas_nulas_media = [\"TSH\", \"T3\", \"TT4\", \"T4U\", \"FTI\"]\n",
        "for column in colunas_nulas_media:\n",
        "    data[column].fillna(data[column].mode()[0], inplace=True)"
      ]
    },
    {
      "cell_type": "code",
      "source": [
        "# Contar a quantidade de instancias na classificação\n",
        "Counter(data['Class'])"
      ],
      "metadata": {
        "colab": {
          "base_uri": "https://localhost:8080/"
        },
        "id": "rPFL9K8sRHCk",
        "outputId": "78f414d1-af20-43af-8d1a-1cd2fcaf1242"
      },
      "execution_count": 740,
      "outputs": [
        {
          "output_type": "execute_result",
          "data": {
            "text/plain": [
              "Counter({'negative': 3480,\n",
              "         'compensated_hypothyroid': 194,\n",
              "         'primary_hypothyroid': 95,\n",
              "         'secondary_hypothyroid': 2})"
            ]
          },
          "metadata": {},
          "execution_count": 740
        }
      ]
    },
    {
      "cell_type": "code",
      "source": [
        "# Remover a instância que tem 2 resultados (muito pequena)\n",
        "indexNames = data[(data['Class'] == 'secondary_hypothyroid')].index\n",
        "data.drop(indexNames, inplace=True)"
      ],
      "metadata": {
        "id": "EgYL749jRh35"
      },
      "execution_count": 741,
      "outputs": []
    },
    {
      "cell_type": "code",
      "execution_count": 742,
      "metadata": {
        "id": "vEGUt-JQrxfP"
      },
      "outputs": [],
      "source": [
        "# Tratar dados nominais para númericos (Treinamento)\n",
        "treinamento_classification = data['Class']\n",
        "data.drop([\"Class\"], axis=1, inplace=True)\n",
        "treinamento_dados = pd.get_dummies(data, columns=[\"'referral source'\"])\n",
        "data.drop([\"'referral source'\"], axis=1, inplace=True)"
      ]
    },
    {
      "cell_type": "code",
      "execution_count": 743,
      "metadata": {
        "id": "olU9XKj2rrIj"
      },
      "outputs": [],
      "source": [
        "# Atualizar tabela com binários\n",
        "labelencoder =  preprocessing.LabelEncoder()\n",
        "# node-caps: faltantes\n",
        "for column in data.columns:\n",
        "  treinamento_dados[column] = labelencoder.fit_transform(treinamento_dados[column])"
      ]
    },
    {
      "cell_type": "code",
      "source": [
        "# Separar dados de treinamento e de testes\n",
        "dataset_treino, dataset_teste, dataset_treino_class, dataset_teste_class = train_test_split(treinamento_dados, treinamento_classification, test_size=0.30, random_state=0)"
      ],
      "metadata": {
        "id": "yWHhE-cr6t0O"
      },
      "execution_count": 744,
      "outputs": []
    },
    {
      "cell_type": "code",
      "source": [
        "sns.countplot(dataset_treino_class)"
      ],
      "metadata": {
        "id": "9N5zGMlv7Hu4",
        "colab": {
          "base_uri": "https://localhost:8080/",
          "height": 355
        },
        "outputId": "e3df6fa4-254e-45ce-c92f-96b56d2a44c7"
      },
      "execution_count": 745,
      "outputs": [
        {
          "output_type": "stream",
          "name": "stderr",
          "text": [
            "/usr/local/lib/python3.7/dist-packages/seaborn/_decorators.py:43: FutureWarning: Pass the following variable as a keyword arg: x. From version 0.12, the only valid positional argument will be `data`, and passing other arguments without an explicit keyword will result in an error or misinterpretation.\n",
            "  FutureWarning\n"
          ]
        },
        {
          "output_type": "execute_result",
          "data": {
            "text/plain": [
              "<matplotlib.axes._subplots.AxesSubplot at 0x7ff9fd723050>"
            ]
          },
          "metadata": {},
          "execution_count": 745
        },
        {
          "output_type": "display_data",
          "data": {
            "text/plain": [
              "<Figure size 432x288 with 1 Axes>"
            ],
            "image/png": "[encoded data removed]"
          },
          "metadata": {
            "needs_background": "light"
          }
        }
      ]
    },
    {
      "cell_type": "code",
      "source": [
        "# Contar a quantidade de instancias na classificação, conferindo se foi removido\n",
        "Counter(dataset_treino_class)"
      ],
      "metadata": {
        "colab": {
          "base_uri": "https://localhost:8080/"
        },
        "id": "ZjtXxuDTSHkL",
        "outputId": "5e4da3fc-5028-4c87-897a-8b41934edb24"
      },
      "execution_count": 746,
      "outputs": [
        {
          "output_type": "execute_result",
          "data": {
            "text/plain": [
              "Counter({'negative': 2442,\n",
              "         'compensated_hypothyroid': 135,\n",
              "         'primary_hypothyroid': 61})"
            ]
          },
          "metadata": {},
          "execution_count": 746
        }
      ]
    },
    {
      "cell_type": "code",
      "execution_count": 747,
      "metadata": {
        "id": "PfZuXtiNybxN"
      },
      "outputs": [],
      "source": [
        "# Fazer o balanceamento no dado principal, para o dataset de treino nao ficar sem dados de classificação\n",
        "under_over = SMOTEENN(random_state=0)\n",
        "dataset_treino, dataset_treino_class = under_over.fit_resample(dataset_treino, dataset_treino_class)"
      ]
    },
    {
      "cell_type": "code",
      "source": [
        "sns.countplot(dataset_treino_class)"
      ],
      "metadata": {
        "id": "rSuOxuKD7MPo",
        "colab": {
          "base_uri": "https://localhost:8080/",
          "height": 355
        },
        "outputId": "a9d87092-4e6d-4fc9-a045-adb7f45e339d"
      },
      "execution_count": 748,
      "outputs": [
        {
          "output_type": "stream",
          "name": "stderr",
          "text": [
            "/usr/local/lib/python3.7/dist-packages/seaborn/_decorators.py:43: FutureWarning: Pass the following variable as a keyword arg: x. From version 0.12, the only valid positional argument will be `data`, and passing other arguments without an explicit keyword will result in an error or misinterpretation.\n",
            "  FutureWarning\n"
          ]
        },
        {
          "output_type": "execute_result",
          "data": {
            "text/plain": [
              "<matplotlib.axes._subplots.AxesSubplot at 0x7ff9fde437d0>"
            ]
          },
          "metadata": {},
          "execution_count": 748
        },
        {
          "output_type": "display_data",
          "data": {
            "text/plain": [
              "<Figure size 432x288 with 1 Axes>"
            ],
            "image/png": "[encoded data removed]"
          },
          "metadata": {
            "needs_background": "light"
          }
        }
      ]
    },
    {
      "cell_type": "code",
      "execution_count": 749,
      "metadata": {
        "id": "Bq4mG3BOwe6y",
        "colab": {
          "base_uri": "https://localhost:8080/"
        },
        "outputId": "d80db428-ccea-445b-af39-24ee2fb55ed2"
      },
      "outputs": [
        {
          "output_type": "execute_result",
          "data": {
            "text/plain": [
              "DecisionTreeClassifier(criterion='entropy')"
            ]
          },
          "metadata": {},
          "execution_count": 749
        }
      ],
      "source": [
        "# Criar e treinar árvore de decisão\n",
        "tree_data = DecisionTreeClassifier(criterion=\"entropy\")\n",
        "tree_data.fit(dataset_treino, dataset_treino_class)"
      ]
    },
    {
      "cell_type": "code",
      "execution_count": 750,
      "metadata": {
        "id": "2Nyht7k6wgO2",
        "colab": {
          "base_uri": "https://localhost:8080/",
          "height": 279
        },
        "outputId": "1ae394ff-d2ff-44a1-bd16-4aa161fb3363"
      },
      "outputs": [
        {
          "output_type": "display_data",
          "data": {
            "text/plain": [
              "<Figure size 432x288 with 2 Axes>"
            ],
            "image/png": "[encoded data removed]"
          },
          "metadata": {
            "needs_background": "light"
          }
        }
      ],
      "source": [
        "conf_matrix = confusion_matrix(dataset_teste_class, tree_data.predict(dataset_teste))\n",
        "cmd = ConfusionMatrixDisplay(conf_matrix)\n",
        "cmd.plot(values_format=\"d\")\n",
        "plt.show()"
      ]
    },
    {
      "cell_type": "code",
      "execution_count": 751,
      "metadata": {
        "id": "DIhYUbzownsm",
        "colab": {
          "base_uri": "https://localhost:8080/"
        },
        "outputId": "9e6a2801-dacf-42f2-e819-fc444bd47200"
      },
      "outputs": [
        {
          "output_type": "stream",
          "name": "stdout",
          "text": [
            "Árvore\n",
            "Accuracy score =  0.9310344827586207\n",
            "                         precision    recall  f1-score   support\n",
            "\n",
            "compensated_hypothyroid       0.50      0.90      0.65        59\n",
            "               negative       0.99      0.94      0.97      1038\n",
            "    primary_hypothyroid       0.57      0.59      0.58        34\n",
            "\n",
            "               accuracy                           0.93      1131\n",
            "              macro avg       0.69      0.81      0.73      1131\n",
            "           weighted avg       0.95      0.93      0.94      1131\n",
            "\n"
          ]
        }
      ],
      "source": [
        "# Mostrar métricas\n",
        "print('Árvore')\n",
        "print(\"Accuracy score = \", accuracy_score(dataset_teste_class, tree_data.predict(dataset_teste)))\n",
        "print(classification_report(dataset_teste_class, tree_data.predict(dataset_teste)))"
      ]
    },
    {
      "cell_type": "code",
      "execution_count": 752,
      "metadata": {
        "id": "x2Iez882wqHW",
        "colab": {
          "base_uri": "https://localhost:8080/"
        },
        "outputId": "976f61a4-9bbc-4eba-a39d-36eaff0103ad"
      },
      "outputs": [
        {
          "output_type": "execute_result",
          "data": {
            "text/plain": [
              "GaussianNB()"
            ]
          },
          "metadata": {},
          "execution_count": 752
        }
      ],
      "source": [
        "# Criar e treinar Naive Bayes\n",
        "gnb = GaussianNB()\n",
        "gnb.fit(dataset_treino, dataset_treino_class)"
      ]
    },
    {
      "cell_type": "code",
      "execution_count": 753,
      "metadata": {
        "id": "UhVAtJ6pwugJ",
        "colab": {
          "base_uri": "https://localhost:8080/",
          "height": 279
        },
        "outputId": "c9bd7d04-aa76-43f3-a6db-4cde83f56d26"
      },
      "outputs": [
        {
          "output_type": "display_data",
          "data": {
            "text/plain": [
              "<Figure size 432x288 with 2 Axes>"
            ],
            "image/png": "[encoded data removed]"
          },
          "metadata": {
            "needs_background": "light"
          }
        }
      ],
      "source": [
        "conf_matrix = confusion_matrix(dataset_teste_class, gnb.predict(dataset_teste))\n",
        "cmd = ConfusionMatrixDisplay(conf_matrix)\n",
        "cmd.plot(values_format=\"d\")\n",
        "plt.show()"
      ]
    },
    {
      "cell_type": "code",
      "execution_count": 754,
      "metadata": {
        "id": "uBsgw0NfwwHJ",
        "colab": {
          "base_uri": "https://localhost:8080/"
        },
        "outputId": "69fca1c0-4270-4b34-fdd5-45c24a228478"
      },
      "outputs": [
        {
          "output_type": "stream",
          "name": "stdout",
          "text": [
            "Naive Bayes\n",
            "Accuracy score =  0.47745358090185674\n",
            "                         precision    recall  f1-score   support\n",
            "\n",
            "compensated_hypothyroid       0.08      0.03      0.05        59\n",
            "               negative       0.97      0.49      0.65      1038\n",
            "    primary_hypothyroid       0.05      0.82      0.09        34\n",
            "\n",
            "               accuracy                           0.48      1131\n",
            "              macro avg       0.36      0.45      0.26      1131\n",
            "           weighted avg       0.89      0.48      0.60      1131\n",
            "\n"
          ]
        }
      ],
      "source": [
        "# Mostrar métricas\n",
        "print('Naive Bayes')\n",
        "print(\"Accuracy score = \", accuracy_score(dataset_teste_class, gnb.predict(dataset_teste)))\n",
        "print(classification_report(dataset_teste_class, gnb.predict(dataset_teste)))"
      ]
    },
    {
      "cell_type": "code",
      "execution_count": 755,
      "metadata": {
        "id": "o9w4wB8dWi6d",
        "colab": {
          "base_uri": "https://localhost:8080/"
        },
        "outputId": "23a89893-e451-4208-b888-b7fba24fba18"
      },
      "outputs": [
        {
          "output_type": "execute_result",
          "data": {
            "text/plain": [
              "RandomForestClassifier(max_features=6, random_state=0)"
            ]
          },
          "metadata": {},
          "execution_count": 755
        }
      ],
      "source": [
        "rforest = RandomForestClassifier(max_features=6, criterion='gini', random_state=0)\n",
        "rforest.fit(dataset_treino, dataset_treino_class)"
      ]
    },
    {
      "cell_type": "code",
      "execution_count": 756,
      "metadata": {
        "id": "HmEZlf1ZWji2",
        "colab": {
          "base_uri": "https://localhost:8080/",
          "height": 283
        },
        "outputId": "38d55e2f-db15-4292-d3ae-14a63ec262f1"
      },
      "outputs": [
        {
          "output_type": "display_data",
          "data": {
            "text/plain": [
              "<Figure size 432x288 with 2 Axes>"
            ],
            "image/png": "[encoded data removed]"
          },
          "metadata": {
            "needs_background": "light"
          }
        }
      ],
      "source": [
        "conf_matrix = confusion_matrix(dataset_teste_class, rforest.predict(dataset_teste))\n",
        "cmd = ConfusionMatrixDisplay(conf_matrix)\n",
        "cmd.plot(values_format=\"d\")\n",
        "plt.show()"
      ]
    },
    {
      "cell_type": "code",
      "execution_count": 757,
      "metadata": {
        "id": "JqWk4UeMWycM",
        "colab": {
          "base_uri": "https://localhost:8080/"
        },
        "outputId": "033c4745-ac79-4662-85ac-de3e55a88c60"
      },
      "outputs": [
        {
          "output_type": "stream",
          "name": "stdout",
          "text": [
            "Random Forest\n",
            "Accuracy score =  0.9487179487179487\n",
            "                         precision    recall  f1-score   support\n",
            "\n",
            "compensated_hypothyroid       0.61      0.75      0.67        59\n",
            "               negative       0.98      0.97      0.97      1038\n",
            "    primary_hypothyroid       0.68      0.79      0.73        34\n",
            "\n",
            "               accuracy                           0.95      1131\n",
            "              macro avg       0.76      0.84      0.79      1131\n",
            "           weighted avg       0.95      0.95      0.95      1131\n",
            "\n"
          ]
        }
      ],
      "source": [
        "# Mostrar métricas\n",
        "print('Random Forest')\n",
        "print(\"Accuracy score = \", accuracy_score(dataset_teste_class, rforest.predict(dataset_teste)))\n",
        "print(classification_report(dataset_teste_class, rforest.predict(dataset_teste)))"
      ]
    }
  ],
  "metadata": {
    "colab": {
      "provenance": [],
      "toc_visible": true
    },
    "kernelspec": {
      "display_name": "Python 3.10.5 64-bit",
      "language": "python",
      "name": "python3"
    },
    "language_info": {
      "name": "python",
      "version": "3.10.5"
    },
    "vscode": {
      "interpreter": {
        "hash": "43808843c0a7d051c320e0b4994efafc85872ee9d51e5da9c64c99aaacd4fb15"
      }
    }
  },
  "nbformat": 4,
  "nbformat_minor": 0
}