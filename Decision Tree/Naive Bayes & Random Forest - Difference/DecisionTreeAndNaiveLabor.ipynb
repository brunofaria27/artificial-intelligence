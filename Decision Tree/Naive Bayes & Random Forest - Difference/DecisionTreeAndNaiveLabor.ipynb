{
  "cells": [
    {
      "cell_type": "code",
      "execution_count": 126,
      "metadata": {
        "id": "enY6jzFNXk3O"
      },
      "outputs": [],
      "source": [
        "# Importando bibliotecas\n",
        "import pandas as pd\n",
        "from sklearn import tree\n",
        "from sklearn import preprocessing\n",
        "from sklearn.model_selection import train_test_split\n",
        "\n",
        "from sklearn.tree import DecisionTreeClassifier\n",
        "from sklearn.ensemble import RandomForestClassifier \n",
        "from sklearn.naive_bayes import GaussianNB\n",
        "\n",
        "# Importar a biblioteca para mostrar a matriz de confusão\n",
        "from sklearn.metrics import confusion_matrix\n",
        "from sklearn.metrics import ConfusionMatrixDisplay\n",
        "import matplotlib.pyplot as plt\n",
        "\n",
        "# Importando bibliotecas para calcular métricas\n",
        "from sklearn.metrics import accuracy_score\n",
        "from sklearn.metrics import classification_report\n",
        "\n",
        "# Plotar gráficos\n",
        "import seaborn as sns\n",
        "\n",
        "from imblearn.under_sampling import RandomUnderSampler\n",
        "from imblearn.over_sampling import RandomOverSampler"
      ]
    },
    {
      "cell_type": "code",
      "execution_count": 127,
      "metadata": {
        "id": "NFwQK7lTX0HX"
      },
      "outputs": [],
      "source": [
        "# Ler dados do DataSet\n",
        "csv_dir_treinamento = \"/content/sample_data/labor.csv\"\n",
        "data = pd.read_csv(csv_dir_treinamento, delimiter=\",\")"
      ]
    },
    {
      "cell_type": "code",
      "execution_count": 128,
      "metadata": {
        "id": "fMuDt2eYmQhL"
      },
      "outputs": [],
      "source": [
        "# Remover a coluna TBG onde todos os valores são NaN\n",
        "data.drop([\"TBG\"], axis=1, inplace=True)\n",
        "\n",
        "# Atualizar ? para NaN\n",
        "data = data.mask(data == '?')"
      ]
    },
    {
      "cell_type": "code",
      "execution_count": 129,
      "metadata": {
        "colab": {
          "base_uri": "https://localhost:8080/"
        },
        "id": "Oi97wYmgVNJl",
        "outputId": "4a0941a7-4b8d-4bfb-82db-7f108841f60f"
      },
      "outputs": [
        {
          "data": {
            "text/plain": [
              "age                             93\n",
              "sex                              2\n",
              "'on thyroxine'                   2\n",
              "'query on thyroxine'             2\n",
              "'on antithyroid medication'      2\n",
              "sick                             2\n",
              "pregnant                         2\n",
              "'thyroid surgery'                2\n",
              "'I131 treatment'                 2\n",
              "'query hypothyroid'              2\n",
              "'query hyperthyroid'             2\n",
              "lithium                          2\n",
              "goitre                           2\n",
              "tumor                            2\n",
              "hypopituitary                    2\n",
              "psych                            2\n",
              "'TSH measured'                   2\n",
              "TSH                            287\n",
              "'T3 measured'                    2\n",
              "T3                              69\n",
              "'TT4 measured'                   2\n",
              "TT4                            241\n",
              "'T4U measured'                   2\n",
              "T4U                            146\n",
              "'FTI measured'                   2\n",
              "FTI                            234\n",
              "'TBG measured'                   1\n",
              "'referral source'                5\n",
              "Class                            4\n",
              "dtype: int64"
            ]
          },
          "execution_count": 129,
          "metadata": {},
          "output_type": "execute_result"
        }
      ],
      "source": [
        "data.nunique()"
      ]
    },
    {
      "cell_type": "code",
      "execution_count": 130,
      "metadata": {
        "id": "_sJB7jd2qPr5"
      },
      "outputs": [],
      "source": [
        "# Atualizar NaN para o modo da coluna\n",
        "data.dropna(subset=['age'], inplace=True, axis=0) # Remover a unica linha nula de idade\n",
        "# Atualizar valores moda:\n",
        "data.fillna(data['sex'].mode(), inplace=True)\n",
        "# Atualizar valores media:\n",
        "colunas_nulas_media = [\"TSH\", \"T3\", \"TT4\", \"T4U\", \"FTI\"]\n",
        "for column in colunas_nulas_media:\n",
        "    data[column].fillna(data[column].mode(), inplace=True)"
      ]
    },
    {
      "cell_type": "code",
      "execution_count": 131,
      "metadata": {
        "id": "vEGUt-JQrxfP"
      },
      "outputs": [],
      "source": [
        "# Tratar dados nominais para númericos (Treinamento)\n",
        "treinamento_classification = data['Class']\n",
        "data.drop([\"Class\"], axis=1, inplace=True)\n",
        "treinamento_dados = pd.get_dummies(data, columns=[\"'referral source'\"])\n",
        "data.drop([\"'referral source'\"], axis=1, inplace=True)"
      ]
    },
    {
      "cell_type": "code",
      "execution_count": 132,
      "metadata": {
        "id": "olU9XKj2rrIj"
      },
      "outputs": [],
      "source": [
        "# Atualizar tabela com binários\n",
        "labelencoder =  preprocessing.LabelEncoder()\n",
        "# node-caps: faltantes\n",
        "for column in data.columns:\n",
        "  treinamento_dados[column] = labelencoder.fit_transform(treinamento_dados[column])"
      ]
    },
    {
      "cell_type": "code",
      "execution_count": 133,
      "metadata": {
        "id": "iKA3vBWxvNJ6"
      },
      "outputs": [],
      "source": [
        "# Separar dados de treinamento e de testes\n",
        "dataset_treino, dataset_teste, dataset_treino_class, dataset_teste_class = train_test_split(treinamento_dados, treinamento_classification, test_size=0.20, random_state=0)"
      ]
    },
    {
      "cell_type": "code",
      "execution_count": 134,
      "metadata": {
        "colab": {
          "base_uri": "https://localhost:8080/",
          "height": 352
        },
        "id": "VF2kFX3Izuzs",
        "outputId": "4f96e09d-2ba5-408b-c2ea-8ae050d7c6f7"
      },
      "outputs": [
        {
          "name": "stderr",
          "output_type": "stream",
          "text": [
            "/usr/local/lib/python3.7/dist-packages/seaborn/_decorators.py:43: FutureWarning: Pass the following variable as a keyword arg: x. From version 0.12, the only valid positional argument will be `data`, and passing other arguments without an explicit keyword will result in an error or misinterpretation.\n",
            "  FutureWarning\n"
          ]
        },
        {
          "data": {
            "text/plain": [
              "<matplotlib.axes._subplots.AxesSubplot at 0x7fac700c7c90>"
            ]
          },
          "execution_count": 134,
          "metadata": {},
          "output_type": "execute_result"
        },
        {
          "data": {
            "image/png": "[encoded data removed]",
            "text/plain": [
              "<Figure size 432x288 with 1 Axes>"
            ]
          },
          "metadata": {
            "needs_background": "light"
          },
          "output_type": "display_data"
        }
      ],
      "source": [
        "sns.countplot(dataset_treino_class)"
      ]
    },
    {
      "cell_type": "code",
      "execution_count": 135,
      "metadata": {
        "id": "PfZuXtiNybxN"
      },
      "outputs": [],
      "source": [
        "smote = RandomOverSampler()\n",
        "# smote = RandomUnderSampler()\n",
        "dataset_treino, dataset_treino_class = smote.fit_resample(dataset_treino, dataset_treino_class)\n",
        "dataset_teste, dataset_teste_class = smote.fit_resample(dataset_teste, dataset_teste_class)"
      ]
    },
    {
      "cell_type": "code",
      "execution_count": 136,
      "metadata": {
        "colab": {
          "base_uri": "https://localhost:8080/",
          "height": 352
        },
        "id": "0fpO4ZMtzvMi",
        "outputId": "b233afd3-b2d2-4812-fa90-6b119bf41551"
      },
      "outputs": [
        {
          "name": "stderr",
          "output_type": "stream",
          "text": [
            "/usr/local/lib/python3.7/dist-packages/seaborn/_decorators.py:43: FutureWarning: Pass the following variable as a keyword arg: x. From version 0.12, the only valid positional argument will be `data`, and passing other arguments without an explicit keyword will result in an error or misinterpretation.\n",
            "  FutureWarning\n"
          ]
        },
        {
          "data": {
            "text/plain": [
              "<matplotlib.axes._subplots.AxesSubplot at 0x7fac6e2d40d0>"
            ]
          },
          "execution_count": 136,
          "metadata": {},
          "output_type": "execute_result"
        },
        {
          "data": {
            "image/png": "[encoded data removed]",
            "text/plain": [
              "<Figure size 432x288 with 1 Axes>"
            ]
          },
          "metadata": {
            "needs_background": "light"
          },
          "output_type": "display_data"
        }
      ],
      "source": [
        "sns.countplot(dataset_treino_class)"
      ]
    },
    {
      "cell_type": "code",
      "execution_count": 137,
      "metadata": {
        "colab": {
          "base_uri": "https://localhost:8080/"
        },
        "id": "Bq4mG3BOwe6y",
        "outputId": "1d994cdf-b7a3-4be3-816d-c26653d0c4f9"
      },
      "outputs": [
        {
          "data": {
            "text/plain": [
              "DecisionTreeClassifier(criterion='entropy')"
            ]
          },
          "execution_count": 137,
          "metadata": {},
          "output_type": "execute_result"
        }
      ],
      "source": [
        "# Criar e treinar árvore de decisão\n",
        "tree_data = DecisionTreeClassifier(criterion=\"entropy\")\n",
        "tree_data.fit(dataset_treino, dataset_treino_class)"
      ]
    },
    {
      "cell_type": "code",
      "execution_count": 138,
      "metadata": {
        "colab": {
          "base_uri": "https://localhost:8080/",
          "height": 279
        },
        "id": "2Nyht7k6wgO2",
        "outputId": "a802e971-4feb-4d79-967d-6c1c8b808814"
      },
      "outputs": [
        {
          "data": {
            "image/png": "[encoded data removed]",
            "text/plain": [
              "<Figure size 432x288 with 2 Axes>"
            ]
          },
          "metadata": {
            "needs_background": "light"
          },
          "output_type": "display_data"
        }
      ],
      "source": [
        "conf_matrix = confusion_matrix(dataset_teste_class, tree_data.predict(dataset_teste))\n",
        "cmd = ConfusionMatrixDisplay(conf_matrix, display_labels=dataset_teste_class.values)\n",
        "cmd.plot(values_format=\"d\")\n",
        "plt.show()"
      ]
    },
    {
      "cell_type": "code",
      "execution_count": 139,
      "metadata": {
        "colab": {
          "base_uri": "https://localhost:8080/"
        },
        "id": "DIhYUbzownsm",
        "outputId": "ece55cc4-8a2f-44a3-ae28-9656e8011d65"
      },
      "outputs": [
        {
          "name": "stdout",
          "output_type": "stream",
          "text": [
            "Árvore\n",
            "Accuracy score =  0.7668118045476536\n",
            "                         precision    recall  f1-score   support\n",
            "\n",
            "compensated_hypothyroid       0.92      0.73      0.82       689\n",
            "               negative       0.63      0.98      0.77       689\n",
            "    primary_hypothyroid       0.94      0.59      0.73       689\n",
            "  secondary_hypothyroid       0.00      0.00      0.00         0\n",
            "\n",
            "               accuracy                           0.77      2067\n",
            "              macro avg       0.62      0.58      0.58      2067\n",
            "           weighted avg       0.83      0.77      0.77      2067\n",
            "\n"
          ]
        },
        {
          "name": "stderr",
          "output_type": "stream",
          "text": [
            "/usr/local/lib/python3.7/dist-packages/sklearn/metrics/_classification.py:1318: UndefinedMetricWarning: Recall and F-score are ill-defined and being set to 0.0 in labels with no true samples. Use `zero_division` parameter to control this behavior.\n",
            "  _warn_prf(average, modifier, msg_start, len(result))\n",
            "/usr/local/lib/python3.7/dist-packages/sklearn/metrics/_classification.py:1318: UndefinedMetricWarning: Recall and F-score are ill-defined and being set to 0.0 in labels with no true samples. Use `zero_division` parameter to control this behavior.\n",
            "  _warn_prf(average, modifier, msg_start, len(result))\n",
            "/usr/local/lib/python3.7/dist-packages/sklearn/metrics/_classification.py:1318: UndefinedMetricWarning: Recall and F-score are ill-defined and being set to 0.0 in labels with no true samples. Use `zero_division` parameter to control this behavior.\n",
            "  _warn_prf(average, modifier, msg_start, len(result))\n"
          ]
        }
      ],
      "source": [
        "# Mostrar métricas\n",
        "print('Árvore')\n",
        "print(\"Accuracy score = \", accuracy_score(dataset_teste_class, tree_data.predict(dataset_teste)))\n",
        "print(classification_report(dataset_teste_class, tree_data.predict(dataset_teste)))"
      ]
    },
    {
      "cell_type": "code",
      "execution_count": 140,
      "metadata": {
        "colab": {
          "base_uri": "https://localhost:8080/"
        },
        "id": "x2Iez882wqHW",
        "outputId": "02ed466a-e1f8-47ec-8809-1510bc5673d6"
      },
      "outputs": [
        {
          "data": {
            "text/plain": [
              "GaussianNB()"
            ]
          },
          "execution_count": 140,
          "metadata": {},
          "output_type": "execute_result"
        }
      ],
      "source": [
        "# Criar e treinar Naive Bayes\n",
        "gnb = GaussianNB()\n",
        "gnb.fit(dataset_treino, dataset_treino_class)"
      ]
    },
    {
      "cell_type": "code",
      "execution_count": 141,
      "metadata": {
        "colab": {
          "base_uri": "https://localhost:8080/",
          "height": 279
        },
        "id": "UhVAtJ6pwugJ",
        "outputId": "a0370ea2-b24a-4522-c4ec-37db38cac759"
      },
      "outputs": [
        {
          "data": {
            "image/png": "[encoded data removed]",
            "text/plain": [
              "<Figure size 432x288 with 2 Axes>"
            ]
          },
          "metadata": {
            "needs_background": "light"
          },
          "output_type": "display_data"
        }
      ],
      "source": [
        "conf_matrix = confusion_matrix(dataset_teste_class, gnb.predict(dataset_teste))\n",
        "cmd = ConfusionMatrixDisplay(conf_matrix, display_labels=dataset_teste_class.values)\n",
        "cmd.plot(values_format=\"d\")\n",
        "plt.show()"
      ]
    },
    {
      "cell_type": "code",
      "execution_count": 142,
      "metadata": {
        "colab": {
          "base_uri": "https://localhost:8080/"
        },
        "id": "uBsgw0NfwwHJ",
        "outputId": "0d484279-1b0e-4eff-fb05-8291a80c30a1"
      },
      "outputs": [
        {
          "name": "stdout",
          "output_type": "stream",
          "text": [
            "Naive Bayes\n",
            "Accuracy score =  0.24286405418480891\n",
            "                         precision    recall  f1-score   support\n",
            "\n",
            "compensated_hypothyroid       0.47      0.13      0.21       689\n",
            "               negative       1.00      0.14      0.25       689\n",
            "    primary_hypothyroid       0.27      0.45      0.34       689\n",
            "  secondary_hypothyroid       0.00      0.00      0.00         0\n",
            "\n",
            "               accuracy                           0.24      2067\n",
            "              macro avg       0.43      0.18      0.20      2067\n",
            "           weighted avg       0.58      0.24      0.27      2067\n",
            "\n"
          ]
        },
        {
          "name": "stderr",
          "output_type": "stream",
          "text": [
            "/usr/local/lib/python3.7/dist-packages/sklearn/metrics/_classification.py:1318: UndefinedMetricWarning: Recall and F-score are ill-defined and being set to 0.0 in labels with no true samples. Use `zero_division` parameter to control this behavior.\n",
            "  _warn_prf(average, modifier, msg_start, len(result))\n",
            "/usr/local/lib/python3.7/dist-packages/sklearn/metrics/_classification.py:1318: UndefinedMetricWarning: Recall and F-score are ill-defined and being set to 0.0 in labels with no true samples. Use `zero_division` parameter to control this behavior.\n",
            "  _warn_prf(average, modifier, msg_start, len(result))\n",
            "/usr/local/lib/python3.7/dist-packages/sklearn/metrics/_classification.py:1318: UndefinedMetricWarning: Recall and F-score are ill-defined and being set to 0.0 in labels with no true samples. Use `zero_division` parameter to control this behavior.\n",
            "  _warn_prf(average, modifier, msg_start, len(result))\n"
          ]
        }
      ],
      "source": [
        "# Mostrar métricas\n",
        "print('Naive Bayes')\n",
        "print(\"Accuracy score = \", accuracy_score(dataset_teste_class, gnb.predict(dataset_teste)))\n",
        "print(classification_report(dataset_teste_class, gnb.predict(dataset_teste)))"
      ]
    },
    {
      "cell_type": "code",
      "execution_count": 143,
      "metadata": {
        "colab": {
          "base_uri": "https://localhost:8080/"
        },
        "id": "o9w4wB8dWi6d",
        "outputId": "1e5d571e-e4f2-49d7-d050-e42d5abf2b6c"
      },
      "outputs": [
        {
          "data": {
            "text/plain": [
              "RandomForestClassifier(max_features='sqrt')"
            ]
          },
          "execution_count": 143,
          "metadata": {},
          "output_type": "execute_result"
        }
      ],
      "source": [
        "rforest = RandomForestClassifier(max_features=\"sqrt\")\n",
        "rforest.fit(dataset_treino, dataset_treino_class)"
      ]
    },
    {
      "cell_type": "code",
      "execution_count": 144,
      "metadata": {
        "colab": {
          "base_uri": "https://localhost:8080/",
          "height": 279
        },
        "id": "HmEZlf1ZWji2",
        "outputId": "42cd8d9c-9218-454f-8dfa-bd894d28dd8f"
      },
      "outputs": [
        {
          "data": {
            "image/png": "[encoded data removed]",
            "text/plain": [
              "<Figure size 432x288 with 2 Axes>"
            ]
          },
          "metadata": {
            "needs_background": "light"
          },
          "output_type": "display_data"
        }
      ],
      "source": [
        "conf_matrix = confusion_matrix(dataset_teste_class, rforest.predict(dataset_teste))\n",
        "cmd = ConfusionMatrixDisplay(conf_matrix)\n",
        "cmd.plot(values_format=\"d\")\n",
        "plt.show()"
      ]
    },
    {
      "cell_type": "code",
      "execution_count": 145,
      "metadata": {
        "colab": {
          "base_uri": "https://localhost:8080/"
        },
        "id": "JqWk4UeMWycM",
        "outputId": "c2d1acb1-c0e0-49f4-8356-b5c67adcca2e"
      },
      "outputs": [
        {
          "name": "stdout",
          "output_type": "stream",
          "text": [
            "Random Forest\n",
            "Accuracy score =  0.6434446057087566\n",
            "                         precision    recall  f1-score   support\n",
            "\n",
            "compensated_hypothyroid       0.98      0.27      0.42       689\n",
            "               negative       0.50      0.99      0.66       689\n",
            "    primary_hypothyroid       0.92      0.67      0.77       689\n",
            "\n",
            "               accuracy                           0.64      2067\n",
            "              macro avg       0.80      0.64      0.62      2067\n",
            "           weighted avg       0.80      0.64      0.62      2067\n",
            "\n"
          ]
        }
      ],
      "source": [
        "# Mostrar métricas\n",
        "print('Random Forest')\n",
        "print(\"Accuracy score = \", accuracy_score(dataset_teste_class, rforest.predict(dataset_teste)))\n",
        "print(classification_report(dataset_teste_class, rforest.predict(dataset_teste)))"
      ]
    }
  ],
  "metadata": {
    "colab": {
      "provenance": []
    },
    "kernelspec": {
      "display_name": "Python 3.10.5 64-bit",
      "language": "python",
      "name": "python3"
    },
    "language_info": {
      "name": "python",
      "version": "3.10.5"
    },
    "vscode": {
      "interpreter": {
        "hash": "43808843c0a7d051c320e0b4994efafc85872ee9d51e5da9c64c99aaacd4fb15"
      }
    }
  },
  "nbformat": 4,
  "nbformat_minor": 0
}
