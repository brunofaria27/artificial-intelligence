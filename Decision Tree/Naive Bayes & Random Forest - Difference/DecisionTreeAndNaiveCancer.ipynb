{
  "cells": [
    {
      "cell_type": "code",
      "execution_count": 473,
      "metadata": {
        "id": "xyLEvusrDXrH"
      },
      "outputs": [],
      "source": [
        "# Importando bibliotecas\n",
        "import pandas as pd\n",
        "from sklearn import tree\n",
        "from sklearn import preprocessing\n",
        "from sklearn.model_selection import train_test_split\n",
        "\n",
        "from sklearn.tree import DecisionTreeClassifier\n",
        "from sklearn.ensemble import RandomForestClassifier \n",
        "from sklearn.naive_bayes import GaussianNB\n",
        "\n",
        "# Importar a biblioteca para mostrar a matriz de confusão\n",
        "from sklearn.metrics import confusion_matrix\n",
        "from sklearn.metrics import ConfusionMatrixDisplay\n",
        "import matplotlib.pyplot as plt\n",
        "\n",
        "# Importando bibliotecas para calcular métricas\n",
        "from sklearn.metrics import accuracy_score\n",
        "from sklearn.metrics import classification_report\n",
        "\n",
        "# Plotar gráficos\n",
        "import seaborn as sns\n",
        "\n",
        "from imblearn.under_sampling import RandomUnderSampler\n",
        "from imblearn.over_sampling import RandomOverSampler\n",
        "from imblearn.under_sampling import AllKNN  \n",
        "from imblearn.over_sampling import ADASYN "
      ]
    },
    {
      "cell_type": "code",
      "execution_count": 474,
      "metadata": {
        "id": "95gMFrpSDirs"
      },
      "outputs": [],
      "source": [
        "# Ler dados do DataSet\n",
        "csv_dir_treinamento = \"/content/sample_data/breast-cancer.csv\"\n",
        "data = pd.read_csv(csv_dir_treinamento, delimiter=\",\")"
      ]
    },
    {
      "cell_type": "code",
      "execution_count": 475,
      "metadata": {
        "id": "RBYGRfzaFZxn"
      },
      "outputs": [],
      "source": [
        "# Tratar dados nominais para númericos (Treinamento)\n",
        "treinamento_classification = data['Class']\n",
        "data.drop([\"Class\"], axis=1, inplace=True)\n",
        "treinamento_dados = pd.get_dummies(data, columns=['menopause', 'breast-quad'])"
      ]
    },
    {
      "cell_type": "code",
      "execution_count": 476,
      "metadata": {
        "id": "j9QH50gMOchq",
        "colab": {
          "base_uri": "https://localhost:8080/"
        },
        "outputId": "28050d99-5c38-4474-bcca-4cdc41903271"
      },
      "outputs": [
        {
          "output_type": "stream",
          "name": "stderr",
          "text": [
            "/usr/local/lib/python3.7/dist-packages/ipykernel_launcher.py:3: FutureWarning: Dropping of nuisance columns in DataFrame reductions (with 'numeric_only=None') is deprecated; in a future version this will raise TypeError.  Select only valid columns before calling the reduction.\n",
            "  This is separate from the ipykernel package so we can avoid doing imports until\n"
          ]
        },
        {
          "output_type": "execute_result",
          "data": {
            "text/plain": [
              "age            0\n",
              "menopause      0\n",
              "tumor-size     0\n",
              "inv-nodes      0\n",
              "node-caps      0\n",
              "deg-malig      0\n",
              "breast         0\n",
              "breast-quad    0\n",
              "irradiat       0\n",
              "dtype: int64"
            ]
          },
          "metadata": {},
          "execution_count": 476
        }
      ],
      "source": [
        "# Substitui os valores nulos da coluna \"node-caps\" pelo valor mais frequente da coluna\n",
        "data = data.mask(data == '?')\n",
        "data = data.fillna(data.median().iloc[0])\n",
        "data.isnull().sum()"
      ]
    },
    {
      "cell_type": "code",
      "execution_count": 477,
      "metadata": {
        "id": "zBSLNxQFFbhR"
      },
      "outputs": [],
      "source": [
        "# Atualizar tabela com binários\n",
        "labelencoder =  preprocessing.LabelEncoder()\n",
        "# node-caps: faltantes\n",
        "treinamento_dados['breast'] = labelencoder.fit_transform(treinamento_dados['breast'])\n",
        "treinamento_dados['irradiat'] = labelencoder.fit_transform(treinamento_dados['irradiat'])\n",
        "treinamento_dados['node-caps'] = labelencoder.fit_transform(treinamento_dados['node-caps'])\n",
        "treinamento_dados['age'] = labelencoder.fit_transform(treinamento_dados['age'])\n",
        "treinamento_dados['tumor-size'] = labelencoder.fit_transform(treinamento_dados['tumor-size'])\n",
        "treinamento_dados['inv-nodes'] = labelencoder.fit_transform(treinamento_dados['inv-nodes'])"
      ]
    },
    {
      "cell_type": "code",
      "execution_count": 478,
      "metadata": {
        "id": "NrEJYy4fDxls"
      },
      "outputs": [],
      "source": [
        "# Separar dados de treinamento e de testes\n",
        "dataset_treino, dataset_teste, dataset_treino_class, dataset_teste_class = train_test_split(treinamento_dados, treinamento_classification, test_size=0.20, random_state=0)"
      ]
    },
    {
      "cell_type": "code",
      "execution_count": 479,
      "metadata": {
        "colab": {
          "base_uri": "https://localhost:8080/",
          "height": 354
        },
        "id": "_DqXCYrnQ38c",
        "outputId": "88b7d502-650c-4803-cef0-510dae5c08ef"
      },
      "outputs": [
        {
          "output_type": "stream",
          "name": "stderr",
          "text": [
            "/usr/local/lib/python3.7/dist-packages/seaborn/_decorators.py:43: FutureWarning: Pass the following variable as a keyword arg: x. From version 0.12, the only valid positional argument will be `data`, and passing other arguments without an explicit keyword will result in an error or misinterpretation.\n",
            "  FutureWarning\n"
          ]
        },
        {
          "output_type": "execute_result",
          "data": {
            "text/plain": [
              "<matplotlib.axes._subplots.AxesSubplot at 0x7f443e3cf750>"
            ]
          },
          "metadata": {},
          "execution_count": 479
        },
        {
          "output_type": "display_data",
          "data": {
            "text/plain": [
              "<Figure size 432x288 with 1 Axes>"
            ],
            "image/png": "[encoded data removed]"
          },
          "metadata": {
            "needs_background": "light"
          }
        }
      ],
      "source": [
        "sns.countplot(dataset_treino_class)"
      ]
    },
    {
      "cell_type": "code",
      "execution_count": 480,
      "metadata": {
        "id": "U4XFDuIwKB-h"
      },
      "outputs": [],
      "source": [
        "# Fazer o balanceamento no dado principal, para o dataset de treino nao ficar sem dados de classificação\n",
        "#smote = AllKNN()\n",
        "smote = ADASYN()\n",
        "dataset_treino, dataset_treino_class = smote.fit_resample(dataset_treino, dataset_treino_class)"
      ]
    },
    {
      "cell_type": "code",
      "execution_count": 481,
      "metadata": {
        "colab": {
          "base_uri": "https://localhost:8080/",
          "height": 354
        },
        "id": "ApkOMRa5PRq3",
        "outputId": "8272790e-6c5b-48aa-c9e4-8a0c10235e3c"
      },
      "outputs": [
        {
          "output_type": "stream",
          "name": "stderr",
          "text": [
            "/usr/local/lib/python3.7/dist-packages/seaborn/_decorators.py:43: FutureWarning: Pass the following variable as a keyword arg: x. From version 0.12, the only valid positional argument will be `data`, and passing other arguments without an explicit keyword will result in an error or misinterpretation.\n",
            "  FutureWarning\n"
          ]
        },
        {
          "output_type": "execute_result",
          "data": {
            "text/plain": [
              "<matplotlib.axes._subplots.AxesSubplot at 0x7f443e334a10>"
            ]
          },
          "metadata": {},
          "execution_count": 481
        },
        {
          "output_type": "display_data",
          "data": {
            "text/plain": [
              "<Figure size 432x288 with 1 Axes>"
            ],
            "image/png": "[encoded data removed]"
          },
          "metadata": {
            "needs_background": "light"
          }
        }
      ],
      "source": [
        "sns.countplot(dataset_treino_class)"
      ]
    },
    {
      "cell_type": "code",
      "execution_count": 482,
      "metadata": {
        "colab": {
          "base_uri": "https://localhost:8080/"
        },
        "id": "mkq1xLNLK1lJ",
        "outputId": "40b16ce9-f34d-49e9-b509-4eecfee366fc"
      },
      "outputs": [
        {
          "output_type": "execute_result",
          "data": {
            "text/plain": [
              "DecisionTreeClassifier(criterion='entropy')"
            ]
          },
          "metadata": {},
          "execution_count": 482
        }
      ],
      "source": [
        "tree_data = DecisionTreeClassifier(criterion=\"entropy\")\n",
        "tree_data.fit(dataset_treino, dataset_treino_class)"
      ]
    },
    {
      "cell_type": "code",
      "execution_count": 483,
      "metadata": {
        "colab": {
          "base_uri": "https://localhost:8080/",
          "height": 283
        },
        "id": "1hA_CYYLL6Ve",
        "outputId": "73506f40-4dd1-49af-f7a8-1c3449ac5033"
      },
      "outputs": [
        {
          "output_type": "display_data",
          "data": {
            "text/plain": [
              "<Figure size 432x288 with 2 Axes>"
            ],
            "image/png": "[encoded data removed]"
          },
          "metadata": {
            "needs_background": "light"
          }
        }
      ],
      "source": [
        "conf_matrix = confusion_matrix(dataset_teste_class, tree_data.predict(dataset_teste))\n",
        "cmd = ConfusionMatrixDisplay(conf_matrix)\n",
        "cmd.plot(values_format=\"d\")\n",
        "plt.show()"
      ]
    },
    {
      "cell_type": "code",
      "execution_count": 484,
      "metadata": {
        "colab": {
          "base_uri": "https://localhost:8080/"
        },
        "id": "ZrmUMRiMMD6D",
        "outputId": "2dcfa8a6-29c7-4a1b-d05b-3d03e26f4fde"
      },
      "outputs": [
        {
          "output_type": "stream",
          "name": "stdout",
          "text": [
            "Árvore\n",
            "Accuracy score =  0.6379310344827587\n",
            "                      precision    recall  f1-score   support\n",
            "\n",
            "no-recurrence-events       0.70      0.72      0.71        36\n",
            "   recurrence-events       0.52      0.50      0.51        22\n",
            "\n",
            "            accuracy                           0.64        58\n",
            "           macro avg       0.61      0.61      0.61        58\n",
            "        weighted avg       0.63      0.64      0.64        58\n",
            "\n"
          ]
        }
      ],
      "source": [
        "# Mostrar métricas\n",
        "print('Árvore')\n",
        "print(\"Accuracy score = \", accuracy_score(dataset_teste_class, tree_data.predict(dataset_teste)))\n",
        "print(classification_report(dataset_teste_class, tree_data.predict(dataset_teste)))"
      ]
    },
    {
      "cell_type": "code",
      "execution_count": 485,
      "metadata": {
        "id": "bKI6e7VNRuYD",
        "colab": {
          "base_uri": "https://localhost:8080/"
        },
        "outputId": "70bd2ca8-185f-41fd-c200-ec7182a06d63"
      },
      "outputs": [
        {
          "output_type": "execute_result",
          "data": {
            "text/plain": [
              "GaussianNB()"
            ]
          },
          "metadata": {},
          "execution_count": 485
        }
      ],
      "source": [
        "gnb = GaussianNB()\n",
        "gnb.fit(dataset_treino, dataset_treino_class)"
      ]
    },
    {
      "cell_type": "code",
      "execution_count": 486,
      "metadata": {
        "colab": {
          "base_uri": "https://localhost:8080/",
          "height": 279
        },
        "id": "gIph6tnYR4K-",
        "outputId": "7cc148c1-88df-4cee-df59-994e4140c14c"
      },
      "outputs": [
        {
          "output_type": "display_data",
          "data": {
            "text/plain": [
              "<Figure size 432x288 with 2 Axes>"
            ],
            "image/png": "[encoded data removed]"
          },
          "metadata": {
            "needs_background": "light"
          }
        }
      ],
      "source": [
        "conf_matrix = confusion_matrix(dataset_teste_class, gnb.predict(dataset_teste))\n",
        "cmd = ConfusionMatrixDisplay(conf_matrix)\n",
        "cmd.plot(values_format=\"d\")\n",
        "plt.show()"
      ]
    },
    {
      "cell_type": "code",
      "execution_count": 487,
      "metadata": {
        "colab": {
          "base_uri": "https://localhost:8080/"
        },
        "id": "mvXDxCAeSFVi",
        "outputId": "faab4980-c147-4263-bb3b-a5c07185255e"
      },
      "outputs": [
        {
          "output_type": "stream",
          "name": "stdout",
          "text": [
            "Naive Bayes\n",
            "Accuracy score =  0.5344827586206896\n",
            "                      precision    recall  f1-score   support\n",
            "\n",
            "no-recurrence-events       0.68      0.47      0.56        36\n",
            "   recurrence-events       0.42      0.64      0.51        22\n",
            "\n",
            "            accuracy                           0.53        58\n",
            "           macro avg       0.55      0.55      0.53        58\n",
            "        weighted avg       0.58      0.53      0.54        58\n",
            "\n"
          ]
        }
      ],
      "source": [
        "# Mostrar métricas\n",
        "print('Naive Bayes')\n",
        "print(\"Accuracy score = \", accuracy_score(dataset_teste_class, gnb.predict(dataset_teste)))\n",
        "print(classification_report(dataset_teste_class, gnb.predict(dataset_teste)))"
      ]
    },
    {
      "cell_type": "code",
      "source": [
        "rforest = RandomForestClassifier()\n",
        "rforest.fit(dataset_treino, dataset_treino_class)"
      ],
      "metadata": {
        "colab": {
          "base_uri": "https://localhost:8080/"
        },
        "id": "UHF3Af0iyw7J",
        "outputId": "2d085454-b87d-42fb-8e9c-5d1219c8ccb0"
      },
      "execution_count": 488,
      "outputs": [
        {
          "output_type": "execute_result",
          "data": {
            "text/plain": [
              "RandomForestClassifier()"
            ]
          },
          "metadata": {},
          "execution_count": 488
        }
      ]
    },
    {
      "cell_type": "code",
      "source": [
        "conf_matrix = confusion_matrix(dataset_teste_class, rforest.predict(dataset_teste))\n",
        "cmd = ConfusionMatrixDisplay(conf_matrix)\n",
        "cmd.plot(values_format=\"d\")\n",
        "plt.show()"
      ],
      "metadata": {
        "colab": {
          "base_uri": "https://localhost:8080/",
          "height": 283
        },
        "id": "UNNA_L4-zGza",
        "outputId": "4be9723e-8d51-4d0b-ca45-1b79e082f846"
      },
      "execution_count": 489,
      "outputs": [
        {
          "output_type": "display_data",
          "data": {
            "text/plain": [
              "<Figure size 432x288 with 2 Axes>"
            ],
            "image/png": "[encoded data removed]"
          },
          "metadata": {
            "needs_background": "light"
          }
        }
      ]
    },
    {
      "cell_type": "code",
      "source": [
        "# Mostrar métricas\n",
        "print('Random Forest')\n",
        "print(\"Accuracy score = \", accuracy_score(dataset_teste_class, rforest.predict(dataset_teste)))\n",
        "print(classification_report(dataset_teste_class, rforest.predict(dataset_teste)))"
      ],
      "metadata": {
        "colab": {
          "base_uri": "https://localhost:8080/"
        },
        "id": "xWW6yzcEzI_Z",
        "outputId": "36e3cdd9-3a00-41b5-a597-c0dbbf5cca2f"
      },
      "execution_count": 490,
      "outputs": [
        {
          "output_type": "stream",
          "name": "stdout",
          "text": [
            "Random Forest\n",
            "Accuracy score =  0.6896551724137931\n",
            "                      precision    recall  f1-score   support\n",
            "\n",
            "no-recurrence-events       0.71      0.83      0.77        36\n",
            "   recurrence-events       0.62      0.45      0.53        22\n",
            "\n",
            "            accuracy                           0.69        58\n",
            "           macro avg       0.67      0.64      0.65        58\n",
            "        weighted avg       0.68      0.69      0.68        58\n",
            "\n"
          ]
        }
      ]
    }
  ],
  "metadata": {
    "colab": {
      "provenance": []
    },
    "kernelspec": {
      "display_name": "Python 3.10.5 64-bit",
      "language": "python",
      "name": "python3"
    },
    "language_info": {
      "name": "python",
      "version": "3.10.5"
    },
    "vscode": {
      "interpreter": {
        "hash": "ed3943dba37f3ed717092a780584c496f36863d6c99891baccd6632ecc02cdda"
      }
    }
  },
  "nbformat": 4,
  "nbformat_minor": 0
}