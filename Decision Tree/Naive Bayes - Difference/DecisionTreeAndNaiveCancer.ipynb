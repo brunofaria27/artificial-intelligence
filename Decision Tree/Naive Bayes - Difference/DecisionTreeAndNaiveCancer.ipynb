{
  "cells": [
    {
      "cell_type": "code",
      "execution_count": 9,
      "metadata": {
        "id": "xyLEvusrDXrH"
      },
      "outputs": [],
      "source": [
        "# Importando bibliotecas\n",
        "import pandas as pd\n",
        "\n",
        "from sklearn import tree\n",
        "from sklearn import preprocessing\n",
        "from sklearn.tree import DecisionTreeClassifier, export_graphviz\n",
        "from sklearn.naive_bayes import GaussianNB\n",
        "from sklearn.model_selection import train_test_split\n",
        "\n",
        "# Importar a biblioteca para mostrar a matriz de confusão\n",
        "from sklearn.metrics import confusion_matrix\n",
        "from sklearn.metrics import ConfusionMatrixDisplay\n",
        "import matplotlib.pyplot as plt\n",
        "\n",
        "# Importando bibliotecas para calcular métricas\n",
        "from sklearn.metrics import accuracy_score\n",
        "from sklearn.metrics import classification_report\n",
        "\n",
        "import pydot\n",
        "import pydotplus\n",
        "import seaborn as sns\n",
        "\n",
        "from imblearn.over_sampling import RandomOverSampler\n",
        "from imblearn.under_sampling import RandomUnderSampler # Undersampling"
      ]
    },
    {
      "cell_type": "code",
      "execution_count": 2,
      "metadata": {
        "id": "95gMFrpSDirs"
      },
      "outputs": [],
      "source": [
        "# Ler dados do DataSet\n",
        "csv_dir_treinamento = \"/content/sample_data/breast-cancer.csv\"\n",
        "data = pd.read_csv(csv_dir_treinamento, delimiter=\",\")"
      ]
    },
    {
      "cell_type": "code",
      "execution_count": 3,
      "metadata": {
        "id": "RBYGRfzaFZxn"
      },
      "outputs": [],
      "source": [
        "# Tratar dados nominais para númericos (Treinamento)\n",
        "treinamento_classification = data['Class']\n",
        "data.drop([\"Class\"], axis=1, inplace=True)\n",
        "treinamento_dados = pd.get_dummies(data, columns=['menopause', 'age', 'tumor-size', 'breast-quad', 'inv-nodes'])"
      ]
    },
    {
      "cell_type": "code",
      "execution_count": 4,
      "metadata": {
        "id": "j9QH50gMOchq"
      },
      "outputs": [],
      "source": [
        "# Substitui os valores nulos da coluna \"node-caps\" pelo valor mais frequente da coluna\n",
        "data['node-caps'] = data['node-caps'].replace('?', data['node-caps'].mode()[0])"
      ]
    },
    {
      "cell_type": "code",
      "execution_count": 5,
      "metadata": {
        "id": "zBSLNxQFFbhR"
      },
      "outputs": [],
      "source": [
        "# Atualizar tabela com binários\n",
        "labelencoder =  preprocessing.LabelEncoder()\n",
        "# node-caps: faltantes\n",
        "treinamento_dados['breast'] = labelencoder.fit_transform(treinamento_dados['breast'])\n",
        "treinamento_dados['irradiat'] = labelencoder.fit_transform(treinamento_dados['irradiat'])\n",
        "treinamento_dados['node-caps'] = labelencoder.fit_transform(treinamento_dados['node-caps'])"
      ]
    },
    {
      "cell_type": "code",
      "execution_count": 6,
      "metadata": {
        "id": "NrEJYy4fDxls"
      },
      "outputs": [],
      "source": [
        "# Separar dados de treinamento e de testes\n",
        "dataset_treino, dataset_teste, dataset_treino_class, dataset_teste_class = train_test_split(treinamento_dados, treinamento_classification, test_size=0.20, random_state=0)"
      ]
    },
    {
      "cell_type": "code",
      "execution_count": 7,
      "metadata": {
        "colab": {
          "base_uri": "https://localhost:8080/",
          "height": 354
        },
        "id": "_DqXCYrnQ38c",
        "outputId": "f4b417d9-db57-42f2-ed51-66869f3bebf4"
      },
      "outputs": [
        {
          "output_type": "stream",
          "name": "stderr",
          "text": [
            "/usr/local/lib/python3.7/dist-packages/seaborn/_decorators.py:43: FutureWarning: Pass the following variable as a keyword arg: x. From version 0.12, the only valid positional argument will be `data`, and passing other arguments without an explicit keyword will result in an error or misinterpretation.\n",
            "  FutureWarning\n"
          ]
        },
        {
          "output_type": "execute_result",
          "data": {
            "text/plain": [
              "<matplotlib.axes._subplots.AxesSubplot at 0x7f8cdd7dd790>"
            ]
          },
          "metadata": {},
          "execution_count": 7
        },
        {
          "output_type": "display_data",
          "data": {
            "text/plain": [
              "<Figure size 432x288 with 1 Axes>"
            ],
            "image/png": "[encoded data removed]"
          },
          "metadata": {
            "needs_background": "light"
          }
        }
      ],
      "source": [
        "sns.countplot(dataset_treino_class)"
      ]
    },
    {
      "cell_type": "code",
      "execution_count": null,
      "metadata": {
        "id": "U4XFDuIwKB-h"
      },
      "outputs": [],
      "source": [
        "smote = RandomOverSampler()\n",
        "# smote = RandomUnderSampler(random_state=0)\n",
        "dataset_treino, dataset_treino_class = smote.fit_resample(dataset_treino, dataset_treino_class)\n",
        "dataset_teste, dataset_teste_class = smote.fit_resample(dataset_teste, dataset_teste_class)"
      ]
    },
    {
      "cell_type": "code",
      "execution_count": 21,
      "metadata": {
        "colab": {
          "base_uri": "https://localhost:8080/",
          "height": 354
        },
        "id": "ApkOMRa5PRq3",
        "outputId": "2b2fa97f-36fb-4ec4-c9a2-a8279fb0e03e"
      },
      "outputs": [
        {
          "output_type": "stream",
          "name": "stderr",
          "text": [
            "/usr/local/lib/python3.7/dist-packages/seaborn/_decorators.py:43: FutureWarning: Pass the following variable as a keyword arg: x. From version 0.12, the only valid positional argument will be `data`, and passing other arguments without an explicit keyword will result in an error or misinterpretation.\n",
            "  FutureWarning\n"
          ]
        },
        {
          "output_type": "execute_result",
          "data": {
            "text/plain": [
              "<matplotlib.axes._subplots.AxesSubplot at 0x7f8cdc40b6d0>"
            ]
          },
          "metadata": {},
          "execution_count": 21
        },
        {
          "output_type": "display_data",
          "data": {
            "text/plain": [
              "<Figure size 432x288 with 1 Axes>"
            ],
            "image/png": "[encoded data removed]"
          },
          "metadata": {
            "needs_background": "light"
          }
        }
      ],
      "source": [
        "sns.countplot(dataset_treino_class)"
      ]
    },
    {
      "cell_type": "code",
      "execution_count": 12,
      "metadata": {
        "colab": {
          "base_uri": "https://localhost:8080/"
        },
        "id": "mkq1xLNLK1lJ",
        "outputId": "655546ab-8a1a-463d-a765-6b444a627e25"
      },
      "outputs": [
        {
          "output_type": "execute_result",
          "data": {
            "text/plain": [
              "DecisionTreeClassifier(criterion='entropy')"
            ]
          },
          "metadata": {},
          "execution_count": 12
        }
      ],
      "source": [
        "tree_data = DecisionTreeClassifier(criterion=\"entropy\")\n",
        "tree_data.fit(dataset_treino, dataset_treino_class)"
      ]
    },
    {
      "cell_type": "code",
      "execution_count": 13,
      "metadata": {
        "colab": {
          "base_uri": "https://localhost:8080/",
          "height": 283
        },
        "id": "1hA_CYYLL6Ve",
        "outputId": "c0b90ca2-be77-4146-bdea-98c9d085e7b1"
      },
      "outputs": [
        {
          "output_type": "display_data",
          "data": {
            "text/plain": [
              "<Figure size 432x288 with 2 Axes>"
            ],
            "image/png": "[encoded data removed]"
          },
          "metadata": {
            "needs_background": "light"
          }
        }
      ],
      "source": [
        "conf_matrix = confusion_matrix(dataset_teste_class, tree_data.predict(dataset_teste))\n",
        "cmd = ConfusionMatrixDisplay(conf_matrix, display_labels=dataset_teste_class.values)\n",
        "cmd.plot(values_format=\"d\")\n",
        "plt.show()"
      ]
    },
    {
      "cell_type": "code",
      "execution_count": 14,
      "metadata": {
        "colab": {
          "base_uri": "https://localhost:8080/"
        },
        "id": "ZrmUMRiMMD6D",
        "outputId": "608671bb-e8ab-4bdd-d1d7-225602ab9e30"
      },
      "outputs": [
        {
          "output_type": "stream",
          "name": "stdout",
          "text": [
            "Árvore\n",
            "Accuracy score =  0.6944444444444444\n",
            "\n",
            "\n",
            "                      precision    recall  f1-score   support\n",
            "\n",
            "no-recurrence-events       0.65      0.83      0.73        36\n",
            "   recurrence-events       0.77      0.56      0.65        36\n",
            "\n",
            "            accuracy                           0.69        72\n",
            "           macro avg       0.71      0.69      0.69        72\n",
            "        weighted avg       0.71      0.69      0.69        72\n",
            "\n",
            "\n",
            "\n",
            "True negative rate: 0.8333333333333334\n",
            "False positive rate: 0.16666666666666666\n",
            "False negative rate: 0.4444444444444444\n",
            "True positive rate: 0.5555555555555556\n"
          ]
        }
      ],
      "source": [
        "# Mostrar métricas\n",
        "print('Árvore')\n",
        "print(\"Accuracy score = \", accuracy_score(dataset_teste_class, tree_data.predict(dataset_teste)))\n",
        "print('\\n')\n",
        "print(classification_report(dataset_teste_class, tree_data.predict(dataset_teste)))\n",
        "print('\\n')\n",
        "\n",
        "tn, fp, fn, tp = confusion_matrix(dataset_teste_class, tree_data.predict(dataset_teste)).ravel()\n",
        "tnr = tn / (tn + fp) # true negative rate \n",
        "fpr = fp / (tn + fp) # false positive rate \n",
        "fnr = fn / (fn + tp) # false negative rate \n",
        "tpr = tp / (tp + fn) # true positive rate\n",
        "print('True negative rate: ' + str(tnr))\n",
        "print('False positive rate: ' + str(fpr))\n",
        "print('False negative rate: ' + str(fnr))\n",
        "print('True positive rate: ' + str(tpr))"
      ]
    },
    {
      "cell_type": "code",
      "execution_count": null,
      "metadata": {
        "id": "bKI6e7VNRuYD"
      },
      "outputs": [],
      "source": [
        "gnb = GaussianNB()\n",
        "gnb.fit(dataset_treino, dataset_treino_class)"
      ]
    },
    {
      "cell_type": "code",
      "execution_count": 16,
      "metadata": {
        "colab": {
          "base_uri": "https://localhost:8080/",
          "height": 279
        },
        "id": "gIph6tnYR4K-",
        "outputId": "293d86a8-416b-4a99-894c-e2d6530323f8"
      },
      "outputs": [
        {
          "output_type": "display_data",
          "data": {
            "text/plain": [
              "<Figure size 432x288 with 2 Axes>"
            ],
            "image/png": "[encoded data removed]"
          },
          "metadata": {
            "needs_background": "light"
          }
        }
      ],
      "source": [
        "conf_matrix = confusion_matrix(dataset_teste_class, gnb.predict(dataset_teste))\n",
        "cmd = ConfusionMatrixDisplay(conf_matrix, display_labels=dataset_teste_class.values)\n",
        "cmd.plot(values_format=\"d\")\n",
        "plt.show()"
      ]
    },
    {
      "cell_type": "code",
      "execution_count": 17,
      "metadata": {
        "colab": {
          "base_uri": "https://localhost:8080/"
        },
        "id": "mvXDxCAeSFVi",
        "outputId": "8c252c0f-b19d-423b-9207-0f6e82aa1e9d"
      },
      "outputs": [
        {
          "output_type": "stream",
          "name": "stdout",
          "text": [
            "Naive Bayes\n",
            "Accuracy score =  0.5694444444444444\n",
            "\n",
            "\n",
            "                      precision    recall  f1-score   support\n",
            "\n",
            "no-recurrence-events       0.63      0.33      0.44        36\n",
            "   recurrence-events       0.55      0.81      0.65        36\n",
            "\n",
            "            accuracy                           0.57        72\n",
            "           macro avg       0.59      0.57      0.54        72\n",
            "        weighted avg       0.59      0.57      0.54        72\n",
            "\n",
            "\n",
            "\n",
            "True negative rate: 0.3333333333333333\n",
            "False positive rate: 0.6666666666666666\n",
            "False negative rate: 0.19444444444444445\n",
            "True positive rate: 0.8055555555555556\n"
          ]
        }
      ],
      "source": [
        "# Mostrar métricas\n",
        "print('Naive Bayes')\n",
        "print(\"Accuracy score = \", accuracy_score(dataset_teste_class, gnb.predict(dataset_teste)))\n",
        "print('\\n')\n",
        "print(classification_report(dataset_teste_class, gnb.predict(dataset_teste)))\n",
        "print('\\n')\n",
        "\n",
        "tn, fp, fn, tp = confusion_matrix(dataset_teste_class, gnb.predict(dataset_teste)).ravel()\n",
        "tnr = tn / (tn + fp) # true negative rate \n",
        "fpr = fp / (tn + fp) # false positive rate \n",
        "fnr = fn / (fn + tp) # false negative rate \n",
        "tpr = tp / (tp + fn) # true positive rate\n",
        "print('True negative rate: ' + str(tnr))\n",
        "print('False positive rate: ' + str(fpr))\n",
        "print('False negative rate: ' + str(fnr))\n",
        "print('True positive rate: ' + str(tpr))"
      ]
    }
  ],
  "metadata": {
    "colab": {
      "provenance": []
    },
    "kernelspec": {
      "display_name": "Python 3.10.5 64-bit",
      "language": "python",
      "name": "python3"
    },
    "language_info": {
      "name": "python",
      "version": "3.10.5"
    },
    "vscode": {
      "interpreter": {
        "hash": "ed3943dba37f3ed717092a780584c496f36863d6c99891baccd6632ecc02cdda"
      }
    }
  },
  "nbformat": 4,
  "nbformat_minor": 0
}