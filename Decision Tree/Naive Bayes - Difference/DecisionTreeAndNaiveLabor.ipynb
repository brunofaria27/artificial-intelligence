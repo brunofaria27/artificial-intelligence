{
  "cells": [
    {
      "cell_type": "code",
      "execution_count": 263,
      "metadata": {
        "id": "enY6jzFNXk3O"
      },
      "outputs": [],
      "source": [
        "# Importando bibliotecas\n",
        "import pandas as pd\n",
        "import numpy as np\n",
        "\n",
        "from sklearn import tree\n",
        "from sklearn import preprocessing\n",
        "from sklearn.tree import DecisionTreeClassifier, export_graphviz\n",
        "from sklearn.naive_bayes import GaussianNB\n",
        "from sklearn.model_selection import train_test_split\n",
        "\n",
        "# Importar a biblioteca para mostrar a matriz de confusão\n",
        "from sklearn.metrics import confusion_matrix\n",
        "from sklearn.metrics import ConfusionMatrixDisplay\n",
        "import matplotlib.pyplot as plt\n",
        "\n",
        "# Importando bibliotecas para calcular métricas\n",
        "from sklearn.metrics import accuracy_score\n",
        "from sklearn.metrics import classification_report\n",
        "\n",
        "import pydot\n",
        "import pydotplus\n",
        "import seaborn as sns"
      ]
    },
    {
      "cell_type": "code",
      "execution_count": 264,
      "metadata": {
        "id": "NFwQK7lTX0HX"
      },
      "outputs": [],
      "source": [
        "# Ler dados do DataSet\n",
        "csv_dir_treinamento = \"/content/sample_data/labor.csv\"\n",
        "data = pd.read_csv(csv_dir_treinamento, delimiter=\",\")"
      ]
    },
    {
      "cell_type": "code",
      "execution_count": 265,
      "metadata": {
        "id": "fMuDt2eYmQhL"
      },
      "outputs": [],
      "source": [
        "# Remover a coluna TBG onde todos os valores são NaN\n",
        "data.drop([\"TBG\"], axis=1, inplace=True)\n",
        "\n",
        "# Atualizar ? para NaN\n",
        "data = data.mask(data == '?')"
      ]
    },
    {
      "cell_type": "code",
      "execution_count": 266,
      "metadata": {
        "id": "_sJB7jd2qPr5"
      },
      "outputs": [],
      "source": [
        "# Atualizar NaN para o modo da coluna\n",
        "data = data.fillna(data.mode().iloc[0])"
      ]
    },
    {
      "cell_type": "code",
      "execution_count": 267,
      "metadata": {
        "id": "vEGUt-JQrxfP"
      },
      "outputs": [],
      "source": [
        "# Tratar dados nominais para númericos (Treinamento)\n",
        "treinamento_classification = data['Class']\n",
        "data.drop([\"Class\"], axis=1, inplace=True)\n",
        "treinamento_dados = pd.get_dummies(data, columns=[\"'referral source'\"])\n",
        "data.drop([\"'referral source'\"], axis=1, inplace=True)"
      ]
    },
    {
      "cell_type": "code",
      "execution_count": 268,
      "metadata": {
        "id": "olU9XKj2rrIj"
      },
      "outputs": [],
      "source": [
        "# Atualizar tabela com binários\n",
        "labelencoder =  preprocessing.LabelEncoder()\n",
        "# node-caps: faltantes\n",
        "for column in data.columns:\n",
        "  treinamento_dados[column] = labelencoder.fit_transform(treinamento_dados[column])"
      ]
    },
    {
      "cell_type": "code",
      "execution_count": 269,
      "metadata": {
        "id": "iKA3vBWxvNJ6"
      },
      "outputs": [],
      "source": [
        "# Separar dados de treinamento e de testes\n",
        "dataset_treino, dataset_teste, dataset_treino_class, dataset_teste_class = train_test_split(treinamento_dados, treinamento_classification, test_size=0.20, random_state=0)"
      ]
    },
    {
      "cell_type": "code",
      "execution_count": null,
      "metadata": {
        "id": "Bq4mG3BOwe6y"
      },
      "outputs": [],
      "source": [
        "# Criar e treinar árvore de decisão\n",
        "tree_data = DecisionTreeClassifier(criterion=\"entropy\")\n",
        "tree_data.fit(dataset_treino, dataset_treino_class)"
      ]
    },
    {
      "cell_type": "code",
      "execution_count": 271,
      "metadata": {
        "colab": {
          "base_uri": "https://localhost:8080/",
          "height": 279
        },
        "id": "2Nyht7k6wgO2",
        "outputId": "a81338cc-3ad8-4eae-f6fc-84b57baeec4a"
      },
      "outputs": [
        {
          "data": {
            "image/png": "[encoded data removed]",
            "text/plain": [
              "<Figure size 432x288 with 2 Axes>"
            ]
          },
          "metadata": {
            "needs_background": "light"
          },
          "output_type": "display_data"
        }
      ],
      "source": [
        "conf_matrix = confusion_matrix(dataset_teste_class, tree_data.predict(dataset_teste))\n",
        "cmd = ConfusionMatrixDisplay(conf_matrix, display_labels=dataset_teste_class.values)\n",
        "cmd.plot(values_format=\"d\")\n",
        "plt.show()"
      ]
    },
    {
      "cell_type": "code",
      "execution_count": 272,
      "metadata": {
        "colab": {
          "base_uri": "https://localhost:8080/"
        },
        "id": "DIhYUbzownsm",
        "outputId": "f845ede5-b020-4a3e-dd5e-5735a83dc558"
      },
      "outputs": [
        {
          "name": "stdout",
          "output_type": "stream",
          "text": [
            "Árvore\n",
            "Accuracy score =  0.9748344370860927\n",
            "                         precision    recall  f1-score   support\n",
            "\n",
            "compensated_hypothyroid       0.80      0.87      0.83        46\n",
            "               negative       0.99      0.99      0.99       686\n",
            "    primary_hypothyroid       0.78      0.61      0.68        23\n",
            "\n",
            "               accuracy                           0.97       755\n",
            "              macro avg       0.86      0.82      0.84       755\n",
            "           weighted avg       0.97      0.97      0.97       755\n",
            "\n"
          ]
        }
      ],
      "source": [
        "# Mostrar métricas\n",
        "print('Árvore')\n",
        "print(\"Accuracy score = \", accuracy_score(dataset_teste_class, tree_data.predict(dataset_teste)))\n",
        "print(classification_report(dataset_teste_class, tree_data.predict(dataset_teste)))"
      ]
    },
    {
      "cell_type": "code",
      "execution_count": null,
      "metadata": {
        "id": "x2Iez882wqHW"
      },
      "outputs": [],
      "source": [
        "# Criar e treinar Naive Bayes\n",
        "gnb = GaussianNB()\n",
        "gnb.fit(dataset_treino, dataset_treino_class)"
      ]
    },
    {
      "cell_type": "code",
      "execution_count": 274,
      "metadata": {
        "colab": {
          "base_uri": "https://localhost:8080/",
          "height": 279
        },
        "id": "UhVAtJ6pwugJ",
        "outputId": "6fa4aa6a-b0a9-46eb-98bc-4a6ac847af56"
      },
      "outputs": [
        {
          "data": {
            "image/png": "[encoded data removed]",
            "text/plain": [
              "<Figure size 432x288 with 2 Axes>"
            ]
          },
          "metadata": {
            "needs_background": "light"
          },
          "output_type": "display_data"
        }
      ],
      "source": [
        "conf_matrix = confusion_matrix(dataset_teste_class, gnb.predict(dataset_teste))\n",
        "cmd = ConfusionMatrixDisplay(conf_matrix, display_labels=dataset_teste_class.values)\n",
        "cmd.plot(values_format=\"d\")\n",
        "plt.show()"
      ]
    },
    {
      "cell_type": "code",
      "execution_count": null,
      "metadata": {
        "id": "uBsgw0NfwwHJ"
      },
      "outputs": [],
      "source": [
        "# Mostrar métricas\n",
        "print('Naive Bayes')\n",
        "print(\"Accuracy score = \", accuracy_score(dataset_teste_class, gnb.predict(dataset_teste)))\n",
        "print(classification_report(dataset_teste_class, gnb.predict(dataset_teste)))"
      ]
    }
  ],
  "metadata": {
    "colab": {
      "provenance": []
    },
    "kernelspec": {
      "display_name": "Python 3.10.5 64-bit",
      "language": "python",
      "name": "python3"
    },
    "language_info": {
      "name": "python",
      "version": "3.10.5"
    },
    "vscode": {
      "interpreter": {
        "hash": "ed3943dba37f3ed717092a780584c496f36863d6c99891baccd6632ecc02cdda"
      }
    }
  },
  "nbformat": 4,
  "nbformat_minor": 0
}
