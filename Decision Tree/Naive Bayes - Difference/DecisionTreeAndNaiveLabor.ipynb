{
  "cells": [
    {
      "cell_type": "code",
      "execution_count": 297,
      "metadata": {
        "id": "enY6jzFNXk3O"
      },
      "outputs": [],
      "source": [
        "# Importando bibliotecas\n",
        "import pandas as pd\n",
        "import numpy as np\n",
        "\n",
        "from sklearn import tree\n",
        "from sklearn import preprocessing\n",
        "from sklearn.tree import DecisionTreeClassifier, export_graphviz\n",
        "from sklearn.naive_bayes import GaussianNB\n",
        "from sklearn.model_selection import train_test_split\n",
        "\n",
        "# Importar a biblioteca para mostrar a matriz de confusão\n",
        "from sklearn.metrics import confusion_matrix\n",
        "from sklearn.metrics import ConfusionMatrixDisplay\n",
        "import matplotlib.pyplot as plt\n",
        "\n",
        "# Importando bibliotecas para calcular métricas\n",
        "from sklearn.metrics import accuracy_score\n",
        "from sklearn.metrics import classification_report\n",
        "\n",
        "import pydot\n",
        "import pydotplus\n",
        "import seaborn as sns\n",
        "\n",
        "from imblearn.over_sampling import RandomOverSampler"
      ]
    },
    {
      "cell_type": "code",
      "execution_count": 306,
      "metadata": {
        "id": "NFwQK7lTX0HX"
      },
      "outputs": [],
      "source": [
        "# Ler dados do DataSet\n",
        "csv_dir_treinamento = \"/content/sample_data/labor.csv\"\n",
        "data = pd.read_csv(csv_dir_treinamento, delimiter=\",\")"
      ]
    },
    {
      "cell_type": "code",
      "execution_count": 307,
      "metadata": {
        "id": "fMuDt2eYmQhL"
      },
      "outputs": [],
      "source": [
        "# Remover a coluna TBG onde todos os valores são NaN\n",
        "data.drop([\"TBG\"], axis=1, inplace=True)\n",
        "\n",
        "# Atualizar ? para NaN\n",
        "data = data.mask(data == '?')"
      ]
    },
    {
      "cell_type": "code",
      "execution_count": 308,
      "metadata": {
        "id": "_sJB7jd2qPr5"
      },
      "outputs": [],
      "source": [
        "# Atualizar NaN para o modo da coluna\n",
        "data = data.fillna(data.mode().iloc[0])"
      ]
    },
    {
      "cell_type": "code",
      "execution_count": 309,
      "metadata": {
        "id": "vEGUt-JQrxfP"
      },
      "outputs": [],
      "source": [
        "# Tratar dados nominais para númericos (Treinamento)\n",
        "treinamento_classification = data['Class']\n",
        "data.drop([\"Class\"], axis=1, inplace=True)\n",
        "treinamento_dados = pd.get_dummies(data, columns=[\"'referral source'\"])\n",
        "data.drop([\"'referral source'\"], axis=1, inplace=True)"
      ]
    },
    {
      "cell_type": "code",
      "execution_count": 310,
      "metadata": {
        "id": "olU9XKj2rrIj"
      },
      "outputs": [],
      "source": [
        "# Atualizar tabela com binários\n",
        "labelencoder =  preprocessing.LabelEncoder()\n",
        "# node-caps: faltantes\n",
        "for column in data.columns:\n",
        "  treinamento_dados[column] = labelencoder.fit_transform(treinamento_dados[column])"
      ]
    },
    {
      "cell_type": "code",
      "execution_count": 311,
      "metadata": {
        "id": "iKA3vBWxvNJ6"
      },
      "outputs": [],
      "source": [
        "# Separar dados de treinamento e de testes\n",
        "dataset_treino, dataset_teste, dataset_treino_class, dataset_teste_class = train_test_split(treinamento_dados, treinamento_classification, test_size=0.20, random_state=0)"
      ]
    },
    {
      "cell_type": "code",
      "source": [
        "sns.countplot(dataset_treino_class)"
      ],
      "metadata": {
        "colab": {
          "base_uri": "https://localhost:8080/",
          "height": 355
        },
        "id": "VF2kFX3Izuzs",
        "outputId": "9ad4d7a9-3eba-4828-ceeb-f357fd13ad40"
      },
      "execution_count": 312,
      "outputs": [
        {
          "output_type": "stream",
          "name": "stderr",
          "text": [
            "/usr/local/lib/python3.7/dist-packages/seaborn/_decorators.py:43: FutureWarning: Pass the following variable as a keyword arg: x. From version 0.12, the only valid positional argument will be `data`, and passing other arguments without an explicit keyword will result in an error or misinterpretation.\n",
            "  FutureWarning\n"
          ]
        },
        {
          "output_type": "execute_result",
          "data": {
            "text/plain": [
              "<matplotlib.axes._subplots.AxesSubplot at 0x7fb2bc5974d0>"
            ]
          },
          "metadata": {},
          "execution_count": 312
        },
        {
          "output_type": "display_data",
          "data": {
            "text/plain": [
              "<Figure size 432x288 with 1 Axes>"
            ],
            "image/png": "[encoded data removed]"
          },
          "metadata": {
            "needs_background": "light"
          }
        }
      ]
    },
    {
      "cell_type": "code",
      "source": [
        "smote = RandomOverSampler()\n",
        "# smote = RandomUnderSampler(random_state=0)\n",
        "dataset_treino, dataset_treino_class = smote.fit_resample(dataset_treino, dataset_treino_class)\n",
        "dataset_teste, dataset_teste_class = smote.fit_resample(dataset_teste, dataset_teste_class)"
      ],
      "metadata": {
        "id": "PfZuXtiNybxN"
      },
      "execution_count": 317,
      "outputs": []
    },
    {
      "cell_type": "code",
      "source": [
        "sns.countplot(dataset_treino_class)"
      ],
      "metadata": {
        "colab": {
          "base_uri": "https://localhost:8080/",
          "height": 355
        },
        "id": "0fpO4ZMtzvMi",
        "outputId": "804409a4-7f53-4a51-c9cc-5654c4ea52a4"
      },
      "execution_count": 318,
      "outputs": [
        {
          "output_type": "stream",
          "name": "stderr",
          "text": [
            "/usr/local/lib/python3.7/dist-packages/seaborn/_decorators.py:43: FutureWarning: Pass the following variable as a keyword arg: x. From version 0.12, the only valid positional argument will be `data`, and passing other arguments without an explicit keyword will result in an error or misinterpretation.\n",
            "  FutureWarning\n"
          ]
        },
        {
          "output_type": "execute_result",
          "data": {
            "text/plain": [
              "<matplotlib.axes._subplots.AxesSubplot at 0x7fb25dbc4350>"
            ]
          },
          "metadata": {},
          "execution_count": 318
        },
        {
          "output_type": "display_data",
          "data": {
            "text/plain": [
              "<Figure size 432x288 with 1 Axes>"
            ],
            "image/png": "[encoded data removed]"
          },
          "metadata": {
            "needs_background": "light"
          }
        }
      ]
    },
    {
      "cell_type": "code",
      "source": [
        "# Criar e treinar árvore de decisão\n",
        "tree_data = DecisionTreeClassifier(criterion=\"entropy\")\n",
        "tree_data.fit(dataset_treino, dataset_treino_class)"
      ],
      "metadata": {
        "id": "Bq4mG3BOwe6y",
        "colab": {
          "base_uri": "https://localhost:8080/"
        },
        "outputId": "5060e443-e809-4853-f339-118742197ba4"
      },
      "execution_count": 319,
      "outputs": [
        {
          "output_type": "execute_result",
          "data": {
            "text/plain": [
              "DecisionTreeClassifier(criterion='entropy')"
            ]
          },
          "metadata": {},
          "execution_count": 319
        }
      ]
    },
    {
      "cell_type": "code",
      "source": [
        "conf_matrix = confusion_matrix(dataset_teste_class, tree_data.predict(dataset_teste))\n",
        "cmd = ConfusionMatrixDisplay(conf_matrix, display_labels=dataset_teste_class.values)\n",
        "cmd.plot(values_format=\"d\")\n",
        "plt.show()"
      ],
      "metadata": {
        "colab": {
          "base_uri": "https://localhost:8080/",
          "height": 279
        },
        "id": "2Nyht7k6wgO2",
        "outputId": "c1cdd450-a73c-40fc-cced-cd27fdd197b6"
      },
      "execution_count": 320,
      "outputs": [
        {
          "output_type": "display_data",
          "data": {
            "text/plain": [
              "<Figure size 432x288 with 2 Axes>"
            ],
            "image/png": "[encoded data removed]"
          },
          "metadata": {
            "needs_background": "light"
          }
        }
      ]
    },
    {
      "cell_type": "code",
      "source": [
        "# Mostrar métricas\n",
        "print('Árvore')\n",
        "print(\"Accuracy score = \", accuracy_score(dataset_teste_class, tree_data.predict(dataset_teste)))\n",
        "print(classification_report(dataset_teste_class, tree_data.predict(dataset_teste)))"
      ],
      "metadata": {
        "colab": {
          "base_uri": "https://localhost:8080/"
        },
        "id": "DIhYUbzownsm",
        "outputId": "509f4d02-0044-4bc3-87ae-23e7090aa8b7"
      },
      "execution_count": 321,
      "outputs": [
        {
          "output_type": "stream",
          "name": "stdout",
          "text": [
            "Árvore\n",
            "Accuracy score =  0.8172983479105929\n",
            "                         precision    recall  f1-score   support\n",
            "\n",
            "compensated_hypothyroid       0.86      0.81      0.84       686\n",
            "               negative       0.76      0.98      0.85       686\n",
            "    primary_hypothyroid       0.91      0.66      0.76       686\n",
            "  secondary_hypothyroid       0.00      0.00      0.00         0\n",
            "\n",
            "               accuracy                           0.82      2058\n",
            "              macro avg       0.63      0.61      0.61      2058\n",
            "           weighted avg       0.84      0.82      0.82      2058\n",
            "\n"
          ]
        },
        {
          "output_type": "stream",
          "name": "stderr",
          "text": [
            "/usr/local/lib/python3.7/dist-packages/sklearn/metrics/_classification.py:1318: UndefinedMetricWarning: Recall and F-score are ill-defined and being set to 0.0 in labels with no true samples. Use `zero_division` parameter to control this behavior.\n",
            "  _warn_prf(average, modifier, msg_start, len(result))\n",
            "/usr/local/lib/python3.7/dist-packages/sklearn/metrics/_classification.py:1318: UndefinedMetricWarning: Recall and F-score are ill-defined and being set to 0.0 in labels with no true samples. Use `zero_division` parameter to control this behavior.\n",
            "  _warn_prf(average, modifier, msg_start, len(result))\n",
            "/usr/local/lib/python3.7/dist-packages/sklearn/metrics/_classification.py:1318: UndefinedMetricWarning: Recall and F-score are ill-defined and being set to 0.0 in labels with no true samples. Use `zero_division` parameter to control this behavior.\n",
            "  _warn_prf(average, modifier, msg_start, len(result))\n"
          ]
        }
      ]
    },
    {
      "cell_type": "code",
      "source": [
        "# Criar e treinar Naive Bayes\n",
        "gnb = GaussianNB()\n",
        "gnb.fit(dataset_treino, dataset_treino_class)"
      ],
      "metadata": {
        "id": "x2Iez882wqHW",
        "colab": {
          "base_uri": "https://localhost:8080/"
        },
        "outputId": "377ac052-be2e-453a-d615-631aa86bbfc2"
      },
      "execution_count": 322,
      "outputs": [
        {
          "output_type": "execute_result",
          "data": {
            "text/plain": [
              "GaussianNB()"
            ]
          },
          "metadata": {},
          "execution_count": 322
        }
      ]
    },
    {
      "cell_type": "code",
      "source": [
        "conf_matrix = confusion_matrix(dataset_teste_class, gnb.predict(dataset_teste))\n",
        "cmd = ConfusionMatrixDisplay(conf_matrix, display_labels=dataset_teste_class.values)\n",
        "cmd.plot(values_format=\"d\")\n",
        "plt.show()"
      ],
      "metadata": {
        "colab": {
          "base_uri": "https://localhost:8080/",
          "height": 279
        },
        "id": "UhVAtJ6pwugJ",
        "outputId": "1153b26c-3ca0-41df-cddc-c1e9159829f5"
      },
      "execution_count": 323,
      "outputs": [
        {
          "output_type": "display_data",
          "data": {
            "text/plain": [
              "<Figure size 432x288 with 2 Axes>"
            ],
            "image/png": "[encoded data removed]"
          },
          "metadata": {
            "needs_background": "light"
          }
        }
      ]
    },
    {
      "cell_type": "code",
      "source": [
        "# Mostrar métricas\n",
        "print('Naive Bayes')\n",
        "print(\"Accuracy score = \", accuracy_score(dataset_teste_class, gnb.predict(dataset_teste)))\n",
        "print(classification_report(dataset_teste_class, gnb.predict(dataset_teste)))"
      ],
      "metadata": {
        "id": "uBsgw0NfwwHJ",
        "colab": {
          "base_uri": "https://localhost:8080/"
        },
        "outputId": "ff2f5f31-8ac9-4d49-f7af-97333501b334"
      },
      "execution_count": 324,
      "outputs": [
        {
          "output_type": "stream",
          "name": "stdout",
          "text": [
            "Naive Bayes\n",
            "Accuracy score =  0.24538386783284744\n",
            "                         precision    recall  f1-score   support\n",
            "\n",
            "compensated_hypothyroid       0.48      0.14      0.22       686\n",
            "               negative       1.00      0.15      0.26       686\n",
            "    primary_hypothyroid       0.28      0.45      0.34       686\n",
            "  secondary_hypothyroid       0.00      0.00      0.00         0\n",
            "\n",
            "               accuracy                           0.25      2058\n",
            "              macro avg       0.44      0.18      0.20      2058\n",
            "           weighted avg       0.59      0.25      0.27      2058\n",
            "\n"
          ]
        },
        {
          "output_type": "stream",
          "name": "stderr",
          "text": [
            "/usr/local/lib/python3.7/dist-packages/sklearn/metrics/_classification.py:1318: UndefinedMetricWarning: Recall and F-score are ill-defined and being set to 0.0 in labels with no true samples. Use `zero_division` parameter to control this behavior.\n",
            "  _warn_prf(average, modifier, msg_start, len(result))\n",
            "/usr/local/lib/python3.7/dist-packages/sklearn/metrics/_classification.py:1318: UndefinedMetricWarning: Recall and F-score are ill-defined and being set to 0.0 in labels with no true samples. Use `zero_division` parameter to control this behavior.\n",
            "  _warn_prf(average, modifier, msg_start, len(result))\n",
            "/usr/local/lib/python3.7/dist-packages/sklearn/metrics/_classification.py:1318: UndefinedMetricWarning: Recall and F-score are ill-defined and being set to 0.0 in labels with no true samples. Use `zero_division` parameter to control this behavior.\n",
            "  _warn_prf(average, modifier, msg_start, len(result))\n"
          ]
        }
      ]
    }
  ],
  "metadata": {
    "colab": {
      "provenance": []
    },
    "kernelspec": {
      "display_name": "Python 3",
      "name": "python3"
    },
    "language_info": {
      "name": "python"
    }
  },
  "nbformat": 4,
  "nbformat_minor": 0
}