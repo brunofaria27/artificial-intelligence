{
  "cells": [
    {
      "cell_type": "markdown",
      "metadata": {
        "id": "s4p4jGaxoE6A"
      },
      "source": [
        "# Decision Tree - Restaurant DataSet\n",
        "\n"
      ]
    },
    {
      "cell_type": "markdown",
      "metadata": {
        "id": "DncjQihAoOOV"
      },
      "source": [
        "OBJETIVO:  Mostrar a árvore gerada, a matriz de confusão, as métricas do modelo, e as regras geradas com as respectivas coberturas. "
      ]
    },
    {
      "cell_type": "code",
      "execution_count": 332,
      "metadata": {
        "id": "WpOx-nnyopwQ"
      },
      "outputs": [],
      "source": [
        "# Importando bibliotecas\n",
        "import pandas as pd\n",
        "from sklearn import tree\n",
        "from sklearn import preprocessing\n",
        "from sklearn.tree import DecisionTreeClassifier\n",
        "\n",
        "import pydot\n",
        "import pydotplus"
      ]
    },
    {
      "cell_type": "code",
      "execution_count": 317,
      "metadata": {
        "id": "jRRreZXdovYB"
      },
      "outputs": [],
      "source": [
        "# Ler dados do DataSet\n",
        "csv_dir = \"/content/sample_data/restaurantev2.csv\"\n",
        "data = pd.read_csv(csv_dir, delimiter=\";\")"
      ]
    },
    {
      "cell_type": "markdown",
      "metadata": {
        "id": "KayGpFQ9bWdA"
      },
      "source": [
        "Mostrando a tabela que foi lida do Dataset restaurante, e tratar os dados."
      ]
    },
    {
      "cell_type": "code",
      "execution_count": 318,
      "metadata": {
        "colab": {
          "base_uri": "https://localhost:8080/",
          "height": 426
        },
        "id": "ZByeK3vybSQF",
        "outputId": "f0b6f76e-47ef-4dc6-9e36-0f3ca671a743"
      },
      "outputs": [
        {
          "data": {
            "text/html": [
              "\n",
              "  <div id=\"df-b2b69e47-5f83-43be-87cf-18de075ee237\">\n",
              "    <div class=\"colab-df-container\">\n",
              "      <div>\n",
              "<style scoped>\n",
              "    .dataframe tbody tr th:only-of-type {\n",
              "        vertical-align: middle;\n",
              "    }\n",
              "\n",
              "    .dataframe tbody tr th {\n",
              "        vertical-align: top;\n",
              "    }\n",
              "\n",
              "    .dataframe thead th {\n",
              "        text-align: right;\n",
              "    }\n",
              "</style>\n",
              "<table border=\"1\" class=\"dataframe\">\n",
              "  <thead>\n",
              "    <tr style=\"text-align: right;\">\n",
              "      <th></th>\n",
              "      <th>Exemplo</th>\n",
              "      <th>Alternativo</th>\n",
              "      <th>Bar</th>\n",
              "      <th>Sex/Sab</th>\n",
              "      <th>fome</th>\n",
              "      <th>Cliente</th>\n",
              "      <th>Preço</th>\n",
              "      <th>Chuva</th>\n",
              "      <th>Res</th>\n",
              "      <th>Tipo</th>\n",
              "      <th>Tempo</th>\n",
              "      <th>conc</th>\n",
              "    </tr>\n",
              "  </thead>\n",
              "  <tbody>\n",
              "    <tr>\n",
              "      <th>0</th>\n",
              "      <td>X1</td>\n",
              "      <td>Sim</td>\n",
              "      <td>Não</td>\n",
              "      <td>Não</td>\n",
              "      <td>Sim</td>\n",
              "      <td>Alguns</td>\n",
              "      <td>RRR</td>\n",
              "      <td>Não</td>\n",
              "      <td>Sim</td>\n",
              "      <td>Francês</td>\n",
              "      <td>0-10</td>\n",
              "      <td>Sim</td>\n",
              "    </tr>\n",
              "    <tr>\n",
              "      <th>1</th>\n",
              "      <td>x2</td>\n",
              "      <td>Sim</td>\n",
              "      <td>Não</td>\n",
              "      <td>Não</td>\n",
              "      <td>Sim</td>\n",
              "      <td>Cheio</td>\n",
              "      <td>R</td>\n",
              "      <td>Não</td>\n",
              "      <td>Não</td>\n",
              "      <td>Tailandês</td>\n",
              "      <td>30-60</td>\n",
              "      <td>Não</td>\n",
              "    </tr>\n",
              "    <tr>\n",
              "      <th>2</th>\n",
              "      <td>x3</td>\n",
              "      <td>Não</td>\n",
              "      <td>Sim</td>\n",
              "      <td>Não</td>\n",
              "      <td>Não</td>\n",
              "      <td>Alguns</td>\n",
              "      <td>R</td>\n",
              "      <td>Não</td>\n",
              "      <td>Não</td>\n",
              "      <td>Hamburger</td>\n",
              "      <td>0-10</td>\n",
              "      <td>Sim</td>\n",
              "    </tr>\n",
              "    <tr>\n",
              "      <th>3</th>\n",
              "      <td>x4</td>\n",
              "      <td>Sim</td>\n",
              "      <td>Não</td>\n",
              "      <td>Sim</td>\n",
              "      <td>Sim</td>\n",
              "      <td>Cheio</td>\n",
              "      <td>R</td>\n",
              "      <td>Sim</td>\n",
              "      <td>Não</td>\n",
              "      <td>Tailandês</td>\n",
              "      <td>out/30</td>\n",
              "      <td>Sim</td>\n",
              "    </tr>\n",
              "    <tr>\n",
              "      <th>4</th>\n",
              "      <td>X5</td>\n",
              "      <td>Sim</td>\n",
              "      <td>Não</td>\n",
              "      <td>Sim</td>\n",
              "      <td>Não</td>\n",
              "      <td>Cheio</td>\n",
              "      <td>RRR</td>\n",
              "      <td>Não</td>\n",
              "      <td>Sim</td>\n",
              "      <td>Francês</td>\n",
              "      <td>&gt;60</td>\n",
              "      <td>Não</td>\n",
              "    </tr>\n",
              "    <tr>\n",
              "      <th>5</th>\n",
              "      <td>X6</td>\n",
              "      <td>Não</td>\n",
              "      <td>Sim</td>\n",
              "      <td>Não</td>\n",
              "      <td>Sim</td>\n",
              "      <td>Alguns</td>\n",
              "      <td>RR</td>\n",
              "      <td>Sim</td>\n",
              "      <td>Sim</td>\n",
              "      <td>Italiano</td>\n",
              "      <td>0-10</td>\n",
              "      <td>Sim</td>\n",
              "    </tr>\n",
              "    <tr>\n",
              "      <th>6</th>\n",
              "      <td>X7</td>\n",
              "      <td>Não</td>\n",
              "      <td>Sim</td>\n",
              "      <td>Não</td>\n",
              "      <td>Não</td>\n",
              "      <td>Nenhum</td>\n",
              "      <td>R</td>\n",
              "      <td>Sim</td>\n",
              "      <td>Não</td>\n",
              "      <td>Hamburger</td>\n",
              "      <td>0-10</td>\n",
              "      <td>Não</td>\n",
              "    </tr>\n",
              "    <tr>\n",
              "      <th>7</th>\n",
              "      <td>X8</td>\n",
              "      <td>Não</td>\n",
              "      <td>Não</td>\n",
              "      <td>Não</td>\n",
              "      <td>Sim</td>\n",
              "      <td>Alguns</td>\n",
              "      <td>RR</td>\n",
              "      <td>Sim</td>\n",
              "      <td>Sim</td>\n",
              "      <td>Tailandês</td>\n",
              "      <td>0-10</td>\n",
              "      <td>Sim</td>\n",
              "    </tr>\n",
              "    <tr>\n",
              "      <th>8</th>\n",
              "      <td>X9</td>\n",
              "      <td>Não</td>\n",
              "      <td>Sim</td>\n",
              "      <td>Sim</td>\n",
              "      <td>Não</td>\n",
              "      <td>Cheio</td>\n",
              "      <td>R</td>\n",
              "      <td>Sim</td>\n",
              "      <td>Não</td>\n",
              "      <td>Hamburger</td>\n",
              "      <td>&gt;60</td>\n",
              "      <td>Não</td>\n",
              "    </tr>\n",
              "    <tr>\n",
              "      <th>9</th>\n",
              "      <td>X10</td>\n",
              "      <td>Sim</td>\n",
              "      <td>Sim</td>\n",
              "      <td>Sim</td>\n",
              "      <td>Sim</td>\n",
              "      <td>Cheio</td>\n",
              "      <td>RRR</td>\n",
              "      <td>Não</td>\n",
              "      <td>Sim</td>\n",
              "      <td>Italiano</td>\n",
              "      <td>out/30</td>\n",
              "      <td>Não</td>\n",
              "    </tr>\n",
              "    <tr>\n",
              "      <th>10</th>\n",
              "      <td>X11</td>\n",
              "      <td>Não</td>\n",
              "      <td>Não</td>\n",
              "      <td>Não</td>\n",
              "      <td>Não</td>\n",
              "      <td>Nenhum</td>\n",
              "      <td>R</td>\n",
              "      <td>Não</td>\n",
              "      <td>Não</td>\n",
              "      <td>Tailandês</td>\n",
              "      <td>0-10</td>\n",
              "      <td>Não</td>\n",
              "    </tr>\n",
              "    <tr>\n",
              "      <th>11</th>\n",
              "      <td>X12</td>\n",
              "      <td>Sim</td>\n",
              "      <td>Sim</td>\n",
              "      <td>Sim</td>\n",
              "      <td>Sim</td>\n",
              "      <td>Cheio</td>\n",
              "      <td>R</td>\n",
              "      <td>Não</td>\n",
              "      <td>Não</td>\n",
              "      <td>Hamburger</td>\n",
              "      <td>30-60</td>\n",
              "      <td>Sim</td>\n",
              "    </tr>\n",
              "  </tbody>\n",
              "</table>\n",
              "</div>\n",
              "      <button class=\"colab-df-convert\" onclick=\"convertToInteractive('df-b2b69e47-5f83-43be-87cf-18de075ee237')\"\n",
              "              title=\"Convert this dataframe to an interactive table.\"\n",
              "              style=\"display:none;\">\n",
              "        \n",
              "  <svg xmlns=\"http://www.w3.org/2000/svg\" height=\"24px\"viewBox=\"0 0 24 24\"\n",
              "       width=\"24px\">\n",
              "    <path d=\"M0 0h24v24H0V0z\" fill=\"none\"/>\n",
              "    <path d=\"M18.56 5.44l.94 2.06.94-2.06 2.06-.94-2.06-.94-.94-2.06-.94 2.06-2.06.94zm-11 1L8.5 8.5l.94-2.06 2.06-.94-2.06-.94L8.5 2.5l-.94 2.06-2.06.94zm10 10l.94 2.06.94-2.06 2.06-.94-2.06-.94-.94-2.06-.94 2.06-2.06.94z\"/><path d=\"M17.41 7.96l-1.37-1.37c-.4-.4-.92-.59-1.43-.59-.52 0-1.04.2-1.43.59L10.3 9.45l-7.72 7.72c-.78.78-.78 2.05 0 2.83L4 21.41c.39.39.9.59 1.41.59.51 0 1.02-.2 1.41-.59l7.78-7.78 2.81-2.81c.8-.78.8-2.07 0-2.86zM5.41 20L4 18.59l7.72-7.72 1.47 1.35L5.41 20z\"/>\n",
              "  </svg>\n",
              "      </button>\n",
              "      \n",
              "  <style>\n",
              "    .colab-df-container {\n",
              "      display:flex;\n",
              "      flex-wrap:wrap;\n",
              "      gap: 12px;\n",
              "    }\n",
              "\n",
              "    .colab-df-convert {\n",
              "      background-color: #E8F0FE;\n",
              "      border: none;\n",
              "      border-radius: 50%;\n",
              "      cursor: pointer;\n",
              "      display: none;\n",
              "      fill: #1967D2;\n",
              "      height: 32px;\n",
              "      padding: 0 0 0 0;\n",
              "      width: 32px;\n",
              "    }\n",
              "\n",
              "    .colab-df-convert:hover {\n",
              "      background-color: #E2EBFA;\n",
              "      box-shadow: 0px 1px 2px rgba(60, 64, 67, 0.3), 0px 1px 3px 1px rgba(60, 64, 67, 0.15);\n",
              "      fill: #174EA6;\n",
              "    }\n",
              "\n",
              "    [theme=dark] .colab-df-convert {\n",
              "      background-color: #3B4455;\n",
              "      fill: #D2E3FC;\n",
              "    }\n",
              "\n",
              "    [theme=dark] .colab-df-convert:hover {\n",
              "      background-color: #434B5C;\n",
              "      box-shadow: 0px 1px 3px 1px rgba(0, 0, 0, 0.15);\n",
              "      filter: drop-shadow(0px 1px 2px rgba(0, 0, 0, 0.3));\n",
              "      fill: #FFFFFF;\n",
              "    }\n",
              "  </style>\n",
              "\n",
              "      <script>\n",
              "        const buttonEl =\n",
              "          document.querySelector('#df-b2b69e47-5f83-43be-87cf-18de075ee237 button.colab-df-convert');\n",
              "        buttonEl.style.display =\n",
              "          google.colab.kernel.accessAllowed ? 'block' : 'none';\n",
              "\n",
              "        async function convertToInteractive(key) {\n",
              "          const element = document.querySelector('#df-b2b69e47-5f83-43be-87cf-18de075ee237');\n",
              "          const dataTable =\n",
              "            await google.colab.kernel.invokeFunction('convertToInteractive',\n",
              "                                                     [key], {});\n",
              "          if (!dataTable) return;\n",
              "\n",
              "          const docLinkHtml = 'Like what you see? Visit the ' +\n",
              "            '<a target=\"_blank\" href=https://colab.research.google.com/notebooks/data_table.ipynb>data table notebook</a>'\n",
              "            + ' to learn more about interactive tables.';\n",
              "          element.innerHTML = '';\n",
              "          dataTable['output_type'] = 'display_data';\n",
              "          await google.colab.output.renderOutput(dataTable, element);\n",
              "          const docLink = document.createElement('div');\n",
              "          docLink.innerHTML = docLinkHtml;\n",
              "          element.appendChild(docLink);\n",
              "        }\n",
              "      </script>\n",
              "    </div>\n",
              "  </div>\n",
              "  "
            ],
            "text/plain": [
              "   Exemplo Alternativo  Bar Sex/Sab fome Cliente Preço Chuva  Res       Tipo  \\\n",
              "0       X1         Sim  Não     Não  Sim  Alguns   RRR   Não  Sim    Francês   \n",
              "1       x2         Sim  Não     Não  Sim   Cheio     R   Não  Não  Tailandês   \n",
              "2       x3         Não  Sim     Não  Não  Alguns     R   Não  Não  Hamburger   \n",
              "3       x4         Sim  Não     Sim  Sim   Cheio     R   Sim  Não  Tailandês   \n",
              "4       X5         Sim  Não     Sim  Não   Cheio   RRR   Não  Sim    Francês   \n",
              "5       X6         Não  Sim     Não  Sim  Alguns    RR   Sim  Sim   Italiano   \n",
              "6       X7         Não  Sim     Não  Não  Nenhum     R   Sim  Não  Hamburger   \n",
              "7       X8         Não  Não     Não  Sim  Alguns    RR   Sim  Sim  Tailandês   \n",
              "8       X9         Não  Sim     Sim  Não   Cheio     R   Sim  Não  Hamburger   \n",
              "9      X10         Sim  Sim     Sim  Sim   Cheio   RRR   Não  Sim   Italiano   \n",
              "10     X11         Não  Não     Não  Não  Nenhum     R   Não  Não  Tailandês   \n",
              "11     X12         Sim  Sim     Sim  Sim   Cheio     R   Não  Não  Hamburger   \n",
              "\n",
              "     Tempo conc  \n",
              "0     0-10  Sim  \n",
              "1    30-60  Não  \n",
              "2     0-10  Sim  \n",
              "3   out/30  Sim  \n",
              "4      >60  Não  \n",
              "5     0-10  Sim  \n",
              "6     0-10  Não  \n",
              "7     0-10  Sim  \n",
              "8      >60  Não  \n",
              "9   out/30  Não  \n",
              "10    0-10  Não  \n",
              "11   30-60  Sim  "
            ]
          },
          "execution_count": 318,
          "metadata": {},
          "output_type": "execute_result"
        }
      ],
      "source": [
        "data"
      ]
    },
    {
      "cell_type": "markdown",
      "metadata": {
        "id": "4SdORLVCbfzg"
      },
      "source": [
        "O tratamento de dados do Dataset foi feito da seguinte forma:\n",
        "- Armazenando em uma variável a coluna de classificação.\n",
        "- Armazenando em uma variável as colunas necessarias para o treinamento."
      ]
    },
    {
      "cell_type": "code",
      "execution_count": 319,
      "metadata": {
        "id": "1GL2mWouKsll"
      },
      "outputs": [],
      "source": [
        "classification_col = data['conc']\n",
        "treinamento = data[['Alternativo', 'Bar', 'Sex/Sab', 'fome', 'Cliente', 'Preço', 'Chuva', 'Res', 'Tipo', 'Tempo']]"
      ]
    },
    {
      "cell_type": "markdown",
      "metadata": {
        "id": "cBlaqub9b3gn"
      },
      "source": [
        "Mostrando a coluna tratada de classificação."
      ]
    },
    {
      "cell_type": "code",
      "execution_count": 320,
      "metadata": {
        "colab": {
          "base_uri": "https://localhost:8080/"
        },
        "id": "OhwxDGgWb0kr",
        "outputId": "15a65a1c-ac39-4402-c39e-dd0e365d578f"
      },
      "outputs": [
        {
          "data": {
            "text/plain": [
              "0     Sim\n",
              "1     Não\n",
              "2     Sim\n",
              "3     Sim\n",
              "4     Não\n",
              "5     Sim\n",
              "6     Não\n",
              "7     Sim\n",
              "8     Não\n",
              "9     Não\n",
              "10    Não\n",
              "11    Sim\n",
              "Name: conc, dtype: object"
            ]
          },
          "execution_count": 320,
          "metadata": {},
          "output_type": "execute_result"
        }
      ],
      "source": [
        "classification_col"
      ]
    },
    {
      "cell_type": "markdown",
      "metadata": {
        "id": "RYOpp0c0b7cD"
      },
      "source": [
        "Mostrando as colunas retiradas da tabela `data`, usadas para treinar a IA."
      ]
    },
    {
      "cell_type": "code",
      "execution_count": 321,
      "metadata": {
        "colab": {
          "base_uri": "https://localhost:8080/",
          "height": 426
        },
        "id": "ny9DBSw_b2gl",
        "outputId": "846e7f40-c2d0-4764-8503-08679347efa3"
      },
      "outputs": [
        {
          "data": {
            "text/html": [
              "\n",
              "  <div id=\"df-93f10a94-5c2a-46c5-8697-45923335880b\">\n",
              "    <div class=\"colab-df-container\">\n",
              "      <div>\n",
              "<style scoped>\n",
              "    .dataframe tbody tr th:only-of-type {\n",
              "        vertical-align: middle;\n",
              "    }\n",
              "\n",
              "    .dataframe tbody tr th {\n",
              "        vertical-align: top;\n",
              "    }\n",
              "\n",
              "    .dataframe thead th {\n",
              "        text-align: right;\n",
              "    }\n",
              "</style>\n",
              "<table border=\"1\" class=\"dataframe\">\n",
              "  <thead>\n",
              "    <tr style=\"text-align: right;\">\n",
              "      <th></th>\n",
              "      <th>Alternativo</th>\n",
              "      <th>Bar</th>\n",
              "      <th>Sex/Sab</th>\n",
              "      <th>fome</th>\n",
              "      <th>Cliente</th>\n",
              "      <th>Preço</th>\n",
              "      <th>Chuva</th>\n",
              "      <th>Res</th>\n",
              "      <th>Tipo</th>\n",
              "      <th>Tempo</th>\n",
              "    </tr>\n",
              "  </thead>\n",
              "  <tbody>\n",
              "    <tr>\n",
              "      <th>0</th>\n",
              "      <td>Sim</td>\n",
              "      <td>Não</td>\n",
              "      <td>Não</td>\n",
              "      <td>Sim</td>\n",
              "      <td>Alguns</td>\n",
              "      <td>RRR</td>\n",
              "      <td>Não</td>\n",
              "      <td>Sim</td>\n",
              "      <td>Francês</td>\n",
              "      <td>0-10</td>\n",
              "    </tr>\n",
              "    <tr>\n",
              "      <th>1</th>\n",
              "      <td>Sim</td>\n",
              "      <td>Não</td>\n",
              "      <td>Não</td>\n",
              "      <td>Sim</td>\n",
              "      <td>Cheio</td>\n",
              "      <td>R</td>\n",
              "      <td>Não</td>\n",
              "      <td>Não</td>\n",
              "      <td>Tailandês</td>\n",
              "      <td>30-60</td>\n",
              "    </tr>\n",
              "    <tr>\n",
              "      <th>2</th>\n",
              "      <td>Não</td>\n",
              "      <td>Sim</td>\n",
              "      <td>Não</td>\n",
              "      <td>Não</td>\n",
              "      <td>Alguns</td>\n",
              "      <td>R</td>\n",
              "      <td>Não</td>\n",
              "      <td>Não</td>\n",
              "      <td>Hamburger</td>\n",
              "      <td>0-10</td>\n",
              "    </tr>\n",
              "    <tr>\n",
              "      <th>3</th>\n",
              "      <td>Sim</td>\n",
              "      <td>Não</td>\n",
              "      <td>Sim</td>\n",
              "      <td>Sim</td>\n",
              "      <td>Cheio</td>\n",
              "      <td>R</td>\n",
              "      <td>Sim</td>\n",
              "      <td>Não</td>\n",
              "      <td>Tailandês</td>\n",
              "      <td>out/30</td>\n",
              "    </tr>\n",
              "    <tr>\n",
              "      <th>4</th>\n",
              "      <td>Sim</td>\n",
              "      <td>Não</td>\n",
              "      <td>Sim</td>\n",
              "      <td>Não</td>\n",
              "      <td>Cheio</td>\n",
              "      <td>RRR</td>\n",
              "      <td>Não</td>\n",
              "      <td>Sim</td>\n",
              "      <td>Francês</td>\n",
              "      <td>&gt;60</td>\n",
              "    </tr>\n",
              "    <tr>\n",
              "      <th>5</th>\n",
              "      <td>Não</td>\n",
              "      <td>Sim</td>\n",
              "      <td>Não</td>\n",
              "      <td>Sim</td>\n",
              "      <td>Alguns</td>\n",
              "      <td>RR</td>\n",
              "      <td>Sim</td>\n",
              "      <td>Sim</td>\n",
              "      <td>Italiano</td>\n",
              "      <td>0-10</td>\n",
              "    </tr>\n",
              "    <tr>\n",
              "      <th>6</th>\n",
              "      <td>Não</td>\n",
              "      <td>Sim</td>\n",
              "      <td>Não</td>\n",
              "      <td>Não</td>\n",
              "      <td>Nenhum</td>\n",
              "      <td>R</td>\n",
              "      <td>Sim</td>\n",
              "      <td>Não</td>\n",
              "      <td>Hamburger</td>\n",
              "      <td>0-10</td>\n",
              "    </tr>\n",
              "    <tr>\n",
              "      <th>7</th>\n",
              "      <td>Não</td>\n",
              "      <td>Não</td>\n",
              "      <td>Não</td>\n",
              "      <td>Sim</td>\n",
              "      <td>Alguns</td>\n",
              "      <td>RR</td>\n",
              "      <td>Sim</td>\n",
              "      <td>Sim</td>\n",
              "      <td>Tailandês</td>\n",
              "      <td>0-10</td>\n",
              "    </tr>\n",
              "    <tr>\n",
              "      <th>8</th>\n",
              "      <td>Não</td>\n",
              "      <td>Sim</td>\n",
              "      <td>Sim</td>\n",
              "      <td>Não</td>\n",
              "      <td>Cheio</td>\n",
              "      <td>R</td>\n",
              "      <td>Sim</td>\n",
              "      <td>Não</td>\n",
              "      <td>Hamburger</td>\n",
              "      <td>&gt;60</td>\n",
              "    </tr>\n",
              "    <tr>\n",
              "      <th>9</th>\n",
              "      <td>Sim</td>\n",
              "      <td>Sim</td>\n",
              "      <td>Sim</td>\n",
              "      <td>Sim</td>\n",
              "      <td>Cheio</td>\n",
              "      <td>RRR</td>\n",
              "      <td>Não</td>\n",
              "      <td>Sim</td>\n",
              "      <td>Italiano</td>\n",
              "      <td>out/30</td>\n",
              "    </tr>\n",
              "    <tr>\n",
              "      <th>10</th>\n",
              "      <td>Não</td>\n",
              "      <td>Não</td>\n",
              "      <td>Não</td>\n",
              "      <td>Não</td>\n",
              "      <td>Nenhum</td>\n",
              "      <td>R</td>\n",
              "      <td>Não</td>\n",
              "      <td>Não</td>\n",
              "      <td>Tailandês</td>\n",
              "      <td>0-10</td>\n",
              "    </tr>\n",
              "    <tr>\n",
              "      <th>11</th>\n",
              "      <td>Sim</td>\n",
              "      <td>Sim</td>\n",
              "      <td>Sim</td>\n",
              "      <td>Sim</td>\n",
              "      <td>Cheio</td>\n",
              "      <td>R</td>\n",
              "      <td>Não</td>\n",
              "      <td>Não</td>\n",
              "      <td>Hamburger</td>\n",
              "      <td>30-60</td>\n",
              "    </tr>\n",
              "  </tbody>\n",
              "</table>\n",
              "</div>\n",
              "      <button class=\"colab-df-convert\" onclick=\"convertToInteractive('df-93f10a94-5c2a-46c5-8697-45923335880b')\"\n",
              "              title=\"Convert this dataframe to an interactive table.\"\n",
              "              style=\"display:none;\">\n",
              "        \n",
              "  <svg xmlns=\"http://www.w3.org/2000/svg\" height=\"24px\"viewBox=\"0 0 24 24\"\n",
              "       width=\"24px\">\n",
              "    <path d=\"M0 0h24v24H0V0z\" fill=\"none\"/>\n",
              "    <path d=\"M18.56 5.44l.94 2.06.94-2.06 2.06-.94-2.06-.94-.94-2.06-.94 2.06-2.06.94zm-11 1L8.5 8.5l.94-2.06 2.06-.94-2.06-.94L8.5 2.5l-.94 2.06-2.06.94zm10 10l.94 2.06.94-2.06 2.06-.94-2.06-.94-.94-2.06-.94 2.06-2.06.94z\"/><path d=\"M17.41 7.96l-1.37-1.37c-.4-.4-.92-.59-1.43-.59-.52 0-1.04.2-1.43.59L10.3 9.45l-7.72 7.72c-.78.78-.78 2.05 0 2.83L4 21.41c.39.39.9.59 1.41.59.51 0 1.02-.2 1.41-.59l7.78-7.78 2.81-2.81c.8-.78.8-2.07 0-2.86zM5.41 20L4 18.59l7.72-7.72 1.47 1.35L5.41 20z\"/>\n",
              "  </svg>\n",
              "      </button>\n",
              "      \n",
              "  <style>\n",
              "    .colab-df-container {\n",
              "      display:flex;\n",
              "      flex-wrap:wrap;\n",
              "      gap: 12px;\n",
              "    }\n",
              "\n",
              "    .colab-df-convert {\n",
              "      background-color: #E8F0FE;\n",
              "      border: none;\n",
              "      border-radius: 50%;\n",
              "      cursor: pointer;\n",
              "      display: none;\n",
              "      fill: #1967D2;\n",
              "      height: 32px;\n",
              "      padding: 0 0 0 0;\n",
              "      width: 32px;\n",
              "    }\n",
              "\n",
              "    .colab-df-convert:hover {\n",
              "      background-color: #E2EBFA;\n",
              "      box-shadow: 0px 1px 2px rgba(60, 64, 67, 0.3), 0px 1px 3px 1px rgba(60, 64, 67, 0.15);\n",
              "      fill: #174EA6;\n",
              "    }\n",
              "\n",
              "    [theme=dark] .colab-df-convert {\n",
              "      background-color: #3B4455;\n",
              "      fill: #D2E3FC;\n",
              "    }\n",
              "\n",
              "    [theme=dark] .colab-df-convert:hover {\n",
              "      background-color: #434B5C;\n",
              "      box-shadow: 0px 1px 3px 1px rgba(0, 0, 0, 0.15);\n",
              "      filter: drop-shadow(0px 1px 2px rgba(0, 0, 0, 0.3));\n",
              "      fill: #FFFFFF;\n",
              "    }\n",
              "  </style>\n",
              "\n",
              "      <script>\n",
              "        const buttonEl =\n",
              "          document.querySelector('#df-93f10a94-5c2a-46c5-8697-45923335880b button.colab-df-convert');\n",
              "        buttonEl.style.display =\n",
              "          google.colab.kernel.accessAllowed ? 'block' : 'none';\n",
              "\n",
              "        async function convertToInteractive(key) {\n",
              "          const element = document.querySelector('#df-93f10a94-5c2a-46c5-8697-45923335880b');\n",
              "          const dataTable =\n",
              "            await google.colab.kernel.invokeFunction('convertToInteractive',\n",
              "                                                     [key], {});\n",
              "          if (!dataTable) return;\n",
              "\n",
              "          const docLinkHtml = 'Like what you see? Visit the ' +\n",
              "            '<a target=\"_blank\" href=https://colab.research.google.com/notebooks/data_table.ipynb>data table notebook</a>'\n",
              "            + ' to learn more about interactive tables.';\n",
              "          element.innerHTML = '';\n",
              "          dataTable['output_type'] = 'display_data';\n",
              "          await google.colab.output.renderOutput(dataTable, element);\n",
              "          const docLink = document.createElement('div');\n",
              "          docLink.innerHTML = docLinkHtml;\n",
              "          element.appendChild(docLink);\n",
              "        }\n",
              "      </script>\n",
              "    </div>\n",
              "  </div>\n",
              "  "
            ],
            "text/plain": [
              "   Alternativo  Bar Sex/Sab fome Cliente Preço Chuva  Res       Tipo   Tempo\n",
              "0          Sim  Não     Não  Sim  Alguns   RRR   Não  Sim    Francês    0-10\n",
              "1          Sim  Não     Não  Sim   Cheio     R   Não  Não  Tailandês   30-60\n",
              "2          Não  Sim     Não  Não  Alguns     R   Não  Não  Hamburger    0-10\n",
              "3          Sim  Não     Sim  Sim   Cheio     R   Sim  Não  Tailandês  out/30\n",
              "4          Sim  Não     Sim  Não   Cheio   RRR   Não  Sim    Francês     >60\n",
              "5          Não  Sim     Não  Sim  Alguns    RR   Sim  Sim   Italiano    0-10\n",
              "6          Não  Sim     Não  Não  Nenhum     R   Sim  Não  Hamburger    0-10\n",
              "7          Não  Não     Não  Sim  Alguns    RR   Sim  Sim  Tailandês    0-10\n",
              "8          Não  Sim     Sim  Não   Cheio     R   Sim  Não  Hamburger     >60\n",
              "9          Sim  Sim     Sim  Sim   Cheio   RRR   Não  Sim   Italiano  out/30\n",
              "10         Não  Não     Não  Não  Nenhum     R   Não  Não  Tailandês    0-10\n",
              "11         Sim  Sim     Sim  Sim   Cheio     R   Não  Não  Hamburger   30-60"
            ]
          },
          "execution_count": 321,
          "metadata": {},
          "output_type": "execute_result"
        }
      ],
      "source": [
        "treinamento"
      ]
    },
    {
      "cell_type": "markdown",
      "metadata": {
        "id": "mjkObCdiZ5pq"
      },
      "source": [
        "Transformar as colunas de treinamento em valores números para poder fazer a classificação:\n",
        "- transformar todas as colunas em variáveis categóricas.  utilizando a biblioteca de pré-processamento do Scikit-Learn. \n",
        "- Transformar em valores numéricos, usando o LabelEncoder.\n",
        "- transformar em valores de ponto flutuante."
      ]
    },
    {
      "cell_type": "code",
      "execution_count": 322,
      "metadata": {
        "id": "g1iH61k2K0da"
      },
      "outputs": [],
      "source": [
        "def transformaNumerico(tabela_treinamento):\n",
        "  for column in tabela_treinamento:\n",
        "    tabela_treinamento[column] = tabela_treinamento[column].astype(str)\n",
        "    le = preprocessing.LabelEncoder()\n",
        "    tabela_treinamento[column] = le.fit_transform(tabela_treinamento[column])\n",
        "  tabela_treinamento = tabela_treinamento.astype(float)\n",
        "  return tabela_treinamento"
      ]
    },
    {
      "cell_type": "code",
      "execution_count": null,
      "metadata": {
        "id": "F1VYqT4Jf0GK"
      },
      "outputs": [],
      "source": [
        "# Pegar a tabela de treinamento em formato númerico\n",
        "treinamento = transformaNumerico(treinamento)"
      ]
    },
    {
      "cell_type": "markdown",
      "metadata": {
        "id": "dKdUIWwsaoXc"
      },
      "source": [
        "Treinar a árvore de decisão de classificação:\n",
        "- Passar o critério de entropia a ser utilizado no cálculo de ganho dos atributos.\n",
        "- Utilizar a árvore criada e passar por parâmetros no `.fit()` os dataset a serem usados para treinamento e classificação, respectivamente."
      ]
    },
    {
      "cell_type": "code",
      "execution_count": 324,
      "metadata": {
        "id": "qmScOYsDrL6U"
      },
      "outputs": [],
      "source": [
        "# Criando a árvore e definindo o criterio de criação usando entropia\n",
        "tree_restaurant = DecisionTreeClassifier(criterion=\"entropy\")\n",
        "tree_train = tree_restaurant.fit(treinamento, classification_col)"
      ]
    },
    {
      "cell_type": "code",
      "execution_count": 325,
      "metadata": {
        "colab": {
          "base_uri": "https://localhost:8080/",
          "height": 753
        },
        "id": "6RFLx_uHpzKS",
        "outputId": "48885b19-24a3-4a51-f8cb-d886cfa03217"
      },
      "outputs": [
        {
          "data": {
            "image/png": "[encoded data removed]",
            "text/plain": [
              "<IPython.core.display.Image object>"
            ]
          },
          "execution_count": 325,
          "metadata": {},
          "output_type": "execute_result"
        }
      ],
      "source": [
        "dot_data = tree.export_graphviz(tree_train, out_file=None,\n",
        "                                feature_names=treinamento.columns.values,\n",
        "                                class_names=classification_col.unique(),\n",
        "                                filled=True, rounded=True,\n",
        "                                special_characters=True)\n",
        "graph = pydot.graph_from_dot_data(dot_data)\n",
        "graph[0].write_png('tree_restaurant.png')\n",
        "\n",
        "from IPython.display import Image\n",
        "Image(filename='tree_restaurant.png')"
      ]
    },
    {
      "cell_type": "markdown",
      "metadata": {
        "id": "FMcTh_QrcalO"
      },
      "source": [
        "Após criar a árvore deve ser mostrado ao usuário:\n",
        "- Matriz de confusão.\n",
        "- Métricas do modelo"
      ]
    },
    {
      "cell_type": "code",
      "execution_count": 326,
      "metadata": {
        "id": "Ogj6xde-cY1-"
      },
      "outputs": [],
      "source": [
        "# Importar a biblioteca para mostrar a matriz de confusão da árvore\n",
        "from sklearn.metrics import confusion_matrix\n",
        "from sklearn.metrics import ConfusionMatrixDisplay\n",
        "import matplotlib.pyplot as plt"
      ]
    },
    {
      "cell_type": "code",
      "execution_count": 327,
      "metadata": {
        "id": "DJH8z_4YgSJW"
      },
      "outputs": [],
      "source": [
        "# Pegar tabela de dados FAKES\n",
        "csv_dir_fake = \"/content/sample_data/fakerestaurant.csv\"\n",
        "data_fake = pd.read_csv(csv_dir_fake, delimiter=\";\")\n",
        "\n",
        "classification_col_fake = data_fake['conc']\n",
        "fake_treinamento = data_fake[['Alternativo', 'Bar', 'Sex/Sab', 'fome', 'Cliente', 'Preço', 'Chuva', 'Res', 'Tipo', 'Tempo']]"
      ]
    },
    {
      "cell_type": "code",
      "execution_count": null,
      "metadata": {
        "id": "E-8zFDSLgk6a"
      },
      "outputs": [],
      "source": [
        "# Transformar o treinamento fake em dados númericos\n",
        "fake_treinamento = transformaNumerico(fake_treinamento)"
      ]
    },
    {
      "cell_type": "code",
      "execution_count": 329,
      "metadata": {
        "colab": {
          "base_uri": "https://localhost:8080/",
          "height": 283
        },
        "id": "-jEbuykNc35_",
        "outputId": "2e1a1191-f595-4ac5-a901-2a2199602d97"
      },
      "outputs": [
        {
          "data": {
            "image/png": "[encoded data removed]",
            "text/plain": [
              "<Figure size 432x288 with 2 Axes>"
            ]
          },
          "metadata": {
            "needs_background": "light"
          },
          "output_type": "display_data"
        }
      ],
      "source": [
        "conf_matrix = confusion_matrix(classification_col_fake, tree_train.predict(fake_treinamento))\n",
        "labels = [\"Vai esperar\", \"Não vai esperar\"]\n",
        "cmd = ConfusionMatrixDisplay(conf_matrix, display_labels=labels)\n",
        "cmd.plot(values_format=\"d\")\n",
        "plt.show()"
      ]
    },
    {
      "cell_type": "code",
      "execution_count": 330,
      "metadata": {
        "id": "OL82WAnOhiWi"
      },
      "outputs": [],
      "source": [
        "# Importando bibliotecas para calcular métricas\n",
        "from sklearn.metrics import accuracy_score\n",
        "from sklearn.metrics import classification_report"
      ]
    },
    {
      "cell_type": "code",
      "execution_count": 331,
      "metadata": {
        "colab": {
          "base_uri": "https://localhost:8080/"
        },
        "id": "SIEF5TIZhYsC",
        "outputId": "f0598800-34c3-49e1-8ad3-34e65b58945d"
      },
      "outputs": [
        {
          "name": "stdout",
          "output_type": "stream",
          "text": [
            "Accuracy score =  0.16666666666666666\n",
            "\n",
            "\n",
            "                 precision    recall  f1-score   support\n",
            "\n",
            "    Vai esperar       0.20      0.14      0.17         7\n",
            "Não vai esperar       0.14      0.20      0.17         5\n",
            "\n",
            "       accuracy                           0.17        12\n",
            "      macro avg       0.17      0.17      0.17        12\n",
            "   weighted avg       0.18      0.17      0.17        12\n",
            "\n",
            "\n",
            "\n",
            "True negative rate: 0.14285714285714285\n",
            "False positive rate: 0.8571428571428571\n",
            "False negative rate: 0.8\n",
            "True positive rate: 0.2\n"
          ]
        }
      ],
      "source": [
        "# Mostrar métricas\n",
        "print(\"Accuracy score = \", accuracy_score(classification_col_fake, tree_train.predict(fake_treinamento)))\n",
        "print('\\n')\n",
        "print(classification_report(classification_col_fake, tree_train.predict(fake_treinamento), target_names=labels))\n",
        "print('\\n')\n",
        "\n",
        "tn, fp, fn, tp = confusion_matrix(classification_col_fake, tree_train.predict(fake_treinamento)).ravel()\n",
        "tnr = tn / (tn + fp) # true negative rate \n",
        "fpr = fp / (tn + fp) # false positive rate \n",
        "fnr = fn / (fn + tp) # false negative rate \n",
        "tpr = tp / (tp + fn) # true positive rate\n",
        "print('True negative rate: ' + str(tnr))\n",
        "print('False positive rate: ' + str(fpr))\n",
        "print('False negative rate: ' + str(fnr))\n",
        "print('True positive rate: ' + str(tpr))\n"
      ]
    }
  ],
  "metadata": {
    "colab": {
      "collapsed_sections": [],
      "name": "Untitled0.ipynb",
      "provenance": []
    },
    "kernelspec": {
      "display_name": "Python 3.10.5 64-bit",
      "language": "python",
      "name": "python3"
    },
    "language_info": {
      "name": "python",
      "version": "3.10.5"
    },
    "vscode": {
      "interpreter": {
        "hash": "ed3943dba37f3ed717092a780584c496f36863d6c99891baccd6632ecc02cdda"
      }
    }
  },
  "nbformat": 4,
  "nbformat_minor": 0
}
